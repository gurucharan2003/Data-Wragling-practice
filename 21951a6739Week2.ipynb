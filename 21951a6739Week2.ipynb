{
 "cells": [
  {
   "cell_type": "code",
   "execution_count": 2,
   "metadata": {},
   "outputs": [
    {
     "name": "stdout",
     "output_type": "stream",
     "text": [
      "Collecting pandasNote: you may need to restart the kernel to use updated packages.\n",
      "\n",
      "  Obtaining dependency information for pandas from https://files.pythonhosted.org/packages/11/17/fb1a34f3e73debbc2fd15a01ea17eaab3717943d08463ff4979a4f024b3f/pandas-2.1.4-cp311-cp311-win_amd64.whl.metadata\n",
      "  Downloading pandas-2.1.4-cp311-cp311-win_amd64.whl.metadata (18 kB)\n",
      "Requirement already satisfied: numpy<2,>=1.23.2 in c:\\users\\guru charan\\appdata\\local\\programs\\python\\python311\\lib\\site-packages (from pandas) (1.26.3)\n",
      "Requirement already satisfied: python-dateutil>=2.8.2 in c:\\users\\guru charan\\appdata\\roaming\\python\\python311\\site-packages (from pandas) (2.8.2)\n",
      "Collecting pytz>=2020.1 (from pandas)\n",
      "  Obtaining dependency information for pytz>=2020.1 from https://files.pythonhosted.org/packages/32/4d/aaf7eff5deb402fd9a24a1449a8119f00d74ae9c2efa79f8ef9994261fc2/pytz-2023.3.post1-py2.py3-none-any.whl.metadata\n",
      "  Downloading pytz-2023.3.post1-py2.py3-none-any.whl.metadata (22 kB)\n",
      "Collecting tzdata>=2022.1 (from pandas)\n",
      "  Obtaining dependency information for tzdata>=2022.1 from https://files.pythonhosted.org/packages/a3/fb/52b62131e21b24ee297e4e95ed41eba29647dad0e0051a92bb66b43c70ff/tzdata-2023.4-py2.py3-none-any.whl.metadata\n",
      "  Downloading tzdata-2023.4-py2.py3-none-any.whl.metadata (1.4 kB)\n",
      "Requirement already satisfied: six>=1.5 in c:\\users\\guru charan\\appdata\\roaming\\python\\python311\\site-packages (from python-dateutil>=2.8.2->pandas) (1.16.0)\n",
      "Downloading pandas-2.1.4-cp311-cp311-win_amd64.whl (10.6 MB)\n",
      "   ---------------------------------------- 0.0/10.6 MB ? eta -:--:--\n",
      "   ---------------------------------------- 0.1/10.6 MB 1.1 MB/s eta 0:00:10\n",
      "    --------------------------------------- 0.2/10.6 MB 2.5 MB/s eta 0:00:05\n",
      "   - -------------------------------------- 0.3/10.6 MB 2.3 MB/s eta 0:00:05\n",
      "   - -------------------------------------- 0.4/10.6 MB 2.3 MB/s eta 0:00:05\n",
      "   - -------------------------------------- 0.5/10.6 MB 2.4 MB/s eta 0:00:05\n",
      "   -- ------------------------------------- 0.7/10.6 MB 2.3 MB/s eta 0:00:05\n",
      "   --- ------------------------------------ 0.8/10.6 MB 2.6 MB/s eta 0:00:04\n",
      "   --- ------------------------------------ 1.0/10.6 MB 2.6 MB/s eta 0:00:04\n",
      "   ---- ----------------------------------- 1.3/10.6 MB 3.0 MB/s eta 0:00:04\n",
      "   ----- ---------------------------------- 1.5/10.6 MB 3.2 MB/s eta 0:00:03\n",
      "   ------ --------------------------------- 1.8/10.6 MB 3.6 MB/s eta 0:00:03\n",
      "   ------- -------------------------------- 1.9/10.6 MB 3.4 MB/s eta 0:00:03\n",
      "   -------- ------------------------------- 2.3/10.6 MB 3.7 MB/s eta 0:00:03\n",
      "   -------- ------------------------------- 2.3/10.6 MB 3.7 MB/s eta 0:00:03\n",
      "   --------- ------------------------------ 2.6/10.6 MB 3.7 MB/s eta 0:00:03\n",
      "   ---------- ----------------------------- 2.7/10.6 MB 3.8 MB/s eta 0:00:03\n",
      "   ----------- ---------------------------- 2.9/10.6 MB 3.7 MB/s eta 0:00:03\n",
      "   ------------ --------------------------- 3.4/10.6 MB 4.0 MB/s eta 0:00:02\n",
      "   ------------- -------------------------- 3.5/10.6 MB 4.0 MB/s eta 0:00:02\n",
      "   --------------- ------------------------ 4.0/10.6 MB 4.3 MB/s eta 0:00:02\n",
      "   --------------- ------------------------ 4.2/10.6 MB 4.3 MB/s eta 0:00:02\n",
      "   --------------- ------------------------ 4.2/10.6 MB 4.3 MB/s eta 0:00:02\n",
      "   ---------------- ----------------------- 4.3/10.6 MB 4.1 MB/s eta 0:00:02\n",
      "   ----------------- ---------------------- 4.7/10.6 MB 4.2 MB/s eta 0:00:02\n",
      "   ------------------ --------------------- 5.0/10.6 MB 4.3 MB/s eta 0:00:02\n",
      "   ------------------- -------------------- 5.3/10.6 MB 4.4 MB/s eta 0:00:02\n",
      "   -------------------- ------------------- 5.4/10.6 MB 4.4 MB/s eta 0:00:02\n",
      "   -------------------- ------------------- 5.6/10.6 MB 4.3 MB/s eta 0:00:02\n",
      "   ---------------------- ----------------- 5.9/10.6 MB 4.4 MB/s eta 0:00:02\n",
      "   ---------------------- ----------------- 6.0/10.6 MB 4.4 MB/s eta 0:00:02\n",
      "   ----------------------- ---------------- 6.1/10.6 MB 4.4 MB/s eta 0:00:02\n",
      "   ----------------------- ---------------- 6.2/10.6 MB 4.3 MB/s eta 0:00:02\n",
      "   ------------------------ --------------- 6.6/10.6 MB 4.4 MB/s eta 0:00:01\n",
      "   ------------------------- -------------- 6.8/10.6 MB 4.5 MB/s eta 0:00:01\n",
      "   --------------------------- ------------ 7.2/10.6 MB 4.5 MB/s eta 0:00:01\n",
      "   ----------------------------- ---------- 7.7/10.6 MB 4.7 MB/s eta 0:00:01\n",
      "   ----------------------------- ---------- 7.8/10.6 MB 4.6 MB/s eta 0:00:01\n",
      "   ------------------------------- -------- 8.3/10.6 MB 4.8 MB/s eta 0:00:01\n",
      "   -------------------------------- ------- 8.6/10.6 MB 4.8 MB/s eta 0:00:01\n",
      "   ----------------------------------- ---- 9.3/10.6 MB 5.1 MB/s eta 0:00:01\n",
      "   ------------------------------------ --- 9.6/10.6 MB 5.2 MB/s eta 0:00:01\n",
      "   ------------------------------------- -- 9.9/10.6 MB 5.2 MB/s eta 0:00:01\n",
      "   ---------------------------------------  10.4/10.6 MB 5.5 MB/s eta 0:00:01\n",
      "   ---------------------------------------  10.6/10.6 MB 5.6 MB/s eta 0:00:01\n",
      "   ---------------------------------------- 10.6/10.6 MB 5.5 MB/s eta 0:00:00\n",
      "Downloading pytz-2023.3.post1-py2.py3-none-any.whl (502 kB)\n",
      "   ---------------------------------------- 0.0/502.5 kB ? eta -:--:--\n",
      "   ---------------------------------- ---- 450.6/502.5 kB 14.2 MB/s eta 0:00:01\n",
      "   --------------------------------------- 502.5/502.5 kB 10.5 MB/s eta 0:00:00\n",
      "Downloading tzdata-2023.4-py2.py3-none-any.whl (346 kB)\n",
      "   ---------------------------------------- 0.0/346.6 kB ? eta -:--:--\n",
      "   --------------------------------------  337.9/346.6 kB 10.6 MB/s eta 0:00:01\n",
      "   ---------------------------------------- 346.6/346.6 kB 7.2 MB/s eta 0:00:00\n",
      "Installing collected packages: pytz, tzdata, pandas\n",
      "Successfully installed pandas-2.1.4 pytz-2023.3.post1 tzdata-2023.4\n"
     ]
    },
    {
     "name": "stderr",
     "output_type": "stream",
     "text": [
      "\n",
      "[notice] A new release of pip is available: 23.2.1 -> 23.3.2\n",
      "[notice] To update, run: python.exe -m pip install --upgrade pip\n"
     ]
    }
   ],
   "source": [
    "pip install pandas"
   ]
  },
  {
   "cell_type": "code",
   "execution_count": 3,
   "metadata": {},
   "outputs": [],
   "source": [
    "import pandas as pd"
   ]
  },
  {
   "cell_type": "markdown",
   "metadata": {
    "slideshow": {
     "slide_type": "subslide"
    }
   },
   "source": [
    "    Write a Python program to read an xlsx file into a dataframe using a library in python?"
   ]
  },
  {
   "cell_type": "code",
   "execution_count": 1,
   "metadata": {},
   "outputs": [
    {
     "ename": "NameError",
     "evalue": "name 'pd' is not defined",
     "output_type": "error",
     "traceback": [
      "\u001b[1;31m---------------------------------------------------------------------------\u001b[0m",
      "\u001b[1;31mNameError\u001b[0m                                 Traceback (most recent call last)",
      "Cell \u001b[1;32mIn[1], line 2\u001b[0m\n\u001b[0;32m      1\u001b[0m File_path \u001b[38;5;241m=\u001b[39m \u001b[38;5;124mr\u001b[39m\u001b[38;5;124m'\u001b[39m\u001b[38;5;124mworld_cup_2018_squads.xlsx\u001b[39m\u001b[38;5;124m'\u001b[39m\n\u001b[1;32m----> 2\u001b[0m data \u001b[38;5;241m=\u001b[39m \u001b[43mpd\u001b[49m\u001b[38;5;241m.\u001b[39mread_excel(File_path)\n\u001b[0;32m      3\u001b[0m \u001b[38;5;28mprint\u001b[39m(data)\n",
      "\u001b[1;31mNameError\u001b[0m: name 'pd' is not defined"
     ]
    }
   ],
   "source": [
    "File_path = r'world_cup_2018_squads.xlsx'\n",
    "data = pd.read_excel(File_path)\n",
    "print(data)"
   ]
  },
  {
   "cell_type": "markdown",
   "metadata": {},
   "source": [
    "    Write a Python program to write a dataframe into the Excel file using a python library in python?"
   ]
  },
  {
   "cell_type": "code",
   "execution_count": 2,
   "metadata": {},
   "outputs": [
    {
     "ename": "NameError",
     "evalue": "name 'pd' is not defined",
     "output_type": "error",
     "traceback": [
      "\u001b[1;31m---------------------------------------------------------------------------\u001b[0m",
      "\u001b[1;31mNameError\u001b[0m                                 Traceback (most recent call last)",
      "Cell \u001b[1;32mIn[2], line 6\u001b[0m\n\u001b[0;32m      1\u001b[0m data \u001b[38;5;241m=\u001b[39m {\n\u001b[0;32m      2\u001b[0m     \u001b[38;5;124m'\u001b[39m\u001b[38;5;124mColumn1\u001b[39m\u001b[38;5;124m'\u001b[39m: [\u001b[38;5;241m1\u001b[39m, \u001b[38;5;241m2\u001b[39m, \u001b[38;5;241m3\u001b[39m, \u001b[38;5;241m4\u001b[39m],\n\u001b[0;32m      3\u001b[0m     \u001b[38;5;124m'\u001b[39m\u001b[38;5;124mColumn2\u001b[39m\u001b[38;5;124m'\u001b[39m: [\u001b[38;5;124m'\u001b[39m\u001b[38;5;124mA\u001b[39m\u001b[38;5;124m'\u001b[39m, \u001b[38;5;124m'\u001b[39m\u001b[38;5;124mB\u001b[39m\u001b[38;5;124m'\u001b[39m, \u001b[38;5;124m'\u001b[39m\u001b[38;5;124mC\u001b[39m\u001b[38;5;124m'\u001b[39m, \u001b[38;5;124m'\u001b[39m\u001b[38;5;124mD\u001b[39m\u001b[38;5;124m'\u001b[39m],\n\u001b[0;32m      4\u001b[0m     \u001b[38;5;124m'\u001b[39m\u001b[38;5;124mColumn3\u001b[39m\u001b[38;5;124m'\u001b[39m: [\u001b[38;5;241m0.1\u001b[39m, \u001b[38;5;241m0.2\u001b[39m, \u001b[38;5;241m0.3\u001b[39m, \u001b[38;5;241m0.4\u001b[39m]\n\u001b[0;32m      5\u001b[0m }\n\u001b[1;32m----> 6\u001b[0m df \u001b[38;5;241m=\u001b[39m \u001b[43mpd\u001b[49m\u001b[38;5;241m.\u001b[39mDataFrame(data)\n\u001b[0;32m      7\u001b[0m output_file \u001b[38;5;241m=\u001b[39m \u001b[38;5;124mr\u001b[39m\u001b[38;5;124m'\u001b[39m\u001b[38;5;124mRandom excel file -1.xlsx\u001b[39m\u001b[38;5;124m'\u001b[39m\n\u001b[0;32m      8\u001b[0m df\u001b[38;5;241m.\u001b[39mto_excel(output_file, index\u001b[38;5;241m=\u001b[39m\u001b[38;5;28;01mFalse\u001b[39;00m)\n",
      "\u001b[1;31mNameError\u001b[0m: name 'pd' is not defined"
     ]
    }
   ],
   "source": [
    "data = {\n",
    "    'Column1': [1, 2, 3, 4],\n",
    "    'Column2': ['A', 'B', 'C', 'D'],\n",
    "    'Column3': [0.1, 0.2, 0.3, 0.4]\n",
    "}\n",
    "df = pd.DataFrame(data)\n",
    "output_file = r'Random excel file -1.xlsx'\n",
    "df.to_excel(output_file, index=False)\n",
    "print (f\"DataFrame has been successfully written to {output_file}.\")\n",
    "data = pd.read_excel(output_file)\n",
    "print(data)\n"
   ]
  },
  {
   "cell_type": "markdown",
   "metadata": {},
   "source": [
    "    Write a Python program that reads data from a CSV file that may use either a comma or a semicolon as the delimiter. Parse the data and print it."
   ]
  },
  {
   "cell_type": "code",
   "execution_count": 3,
   "metadata": {},
   "outputs": [
    {
     "ename": "NameError",
     "evalue": "name 'pd' is not defined",
     "output_type": "error",
     "traceback": [
      "\u001b[1;31m---------------------------------------------------------------------------\u001b[0m",
      "\u001b[1;31mNameError\u001b[0m                                 Traceback (most recent call last)",
      "Cell \u001b[1;32mIn[3], line 3\u001b[0m\n\u001b[0;32m      2\u001b[0m \u001b[38;5;28;01mtry\u001b[39;00m:\n\u001b[1;32m----> 3\u001b[0m     data_comma \u001b[38;5;241m=\u001b[39m \u001b[43mpd\u001b[49m\u001b[38;5;241m.\u001b[39mread_csv(file_path, delimiter\u001b[38;5;241m=\u001b[39m\u001b[38;5;124m'\u001b[39m\u001b[38;5;124m,\u001b[39m\u001b[38;5;124m'\u001b[39m)\n\u001b[0;32m      4\u001b[0m     \u001b[38;5;28mprint\u001b[39m(\u001b[38;5;124m\"\u001b[39m\u001b[38;5;124mData using comma (\u001b[39m\u001b[38;5;124m'\u001b[39m\u001b[38;5;124m,\u001b[39m\u001b[38;5;124m'\u001b[39m\u001b[38;5;124m) delimiter:\u001b[39m\u001b[38;5;124m\"\u001b[39m)\n",
      "\u001b[1;31mNameError\u001b[0m: name 'pd' is not defined",
      "\nDuring handling of the above exception, another exception occurred:\n",
      "\u001b[1;31mNameError\u001b[0m                                 Traceback (most recent call last)",
      "Cell \u001b[1;32mIn[3], line 6\u001b[0m\n\u001b[0;32m      4\u001b[0m     \u001b[38;5;28mprint\u001b[39m(\u001b[38;5;124m\"\u001b[39m\u001b[38;5;124mData using comma (\u001b[39m\u001b[38;5;124m'\u001b[39m\u001b[38;5;124m,\u001b[39m\u001b[38;5;124m'\u001b[39m\u001b[38;5;124m) delimiter:\u001b[39m\u001b[38;5;124m\"\u001b[39m)\n\u001b[0;32m      5\u001b[0m     \u001b[38;5;28mprint\u001b[39m(data_comma)\n\u001b[1;32m----> 6\u001b[0m \u001b[38;5;28;01mexcept\u001b[39;00m \u001b[43mpd\u001b[49m\u001b[38;5;241m.\u001b[39merrors\u001b[38;5;241m.\u001b[39mParserError:\n\u001b[0;32m      7\u001b[0m     \u001b[38;5;28mprint\u001b[39m(\u001b[38;5;124m\"\u001b[39m\u001b[38;5;124mFailed to read with comma (\u001b[39m\u001b[38;5;124m'\u001b[39m\u001b[38;5;124m,\u001b[39m\u001b[38;5;124m'\u001b[39m\u001b[38;5;124m) delimiter\u001b[39m\u001b[38;5;124m\"\u001b[39m)\n",
      "\u001b[1;31mNameError\u001b[0m: name 'pd' is not defined"
     ]
    }
   ],
   "source": [
    "file_path = r'Train - delimiter - comma.csv'\n",
    "try:\n",
    "    data_comma = pd.read_csv(file_path, delimiter=',')\n",
    "    print(\"Data using comma (',') delimiter:\")\n",
    "    print(data_comma)\n",
    "except pd.errors.ParserError:\n",
    "    print(\"Failed to read with comma (',') delimiter\")"
   ]
  },
  {
   "cell_type": "code",
   "execution_count": 6,
   "metadata": {},
   "outputs": [
    {
     "name": "stdout",
     "output_type": "stream",
     "text": [
      "\n",
      "Data using semicolon (';') delimiter:\n",
      "    school sex  age address famsize Pstatus  Medu  Fedu      Mjob      Fjob  \\\n",
      "0       GP   F   18       U     GT3       A     4     4   at_home   teacher   \n",
      "1       GP   F   17       U     GT3       T     1     1   at_home     other   \n",
      "2       GP   F   15       U     LE3       T     1     1   at_home     other   \n",
      "3       GP   F   15       U     GT3       T     4     2    health  services   \n",
      "4       GP   F   16       U     GT3       T     3     3     other     other   \n",
      "..     ...  ..  ...     ...     ...     ...   ...   ...       ...       ...   \n",
      "390     MS   M   20       U     LE3       A     2     2  services  services   \n",
      "391     MS   M   17       U     LE3       T     3     1  services  services   \n",
      "392     MS   M   21       R     GT3       T     1     1     other     other   \n",
      "393     MS   M   18       R     LE3       T     3     2  services     other   \n",
      "394     MS   M   19       U     LE3       T     1     1     other   at_home   \n",
      "\n",
      "     ... famrel freetime  goout  Dalc  Walc health absences  G1  G2  G3  \n",
      "0    ...      4        3      4     1     1      3        6   5   6   6  \n",
      "1    ...      5        3      3     1     1      3        4   5   5   6  \n",
      "2    ...      4        3      2     2     3      3       10   7   8  10  \n",
      "3    ...      3        2      2     1     1      5        2  15  14  15  \n",
      "4    ...      4        3      2     1     2      5        4   6  10  10  \n",
      "..   ...    ...      ...    ...   ...   ...    ...      ...  ..  ..  ..  \n",
      "390  ...      5        5      4     4     5      4       11   9   9   9  \n",
      "391  ...      2        4      5     3     4      2        3  14  16  16  \n",
      "392  ...      5        5      3     3     3      3        3  10   8   7  \n",
      "393  ...      4        4      1     3     4      5        0  11  12  10  \n",
      "394  ...      3        2      3     3     3      5        5   8   9   9  \n",
      "\n",
      "[395 rows x 33 columns]\n"
     ]
    }
   ],
   "source": [
    "file_path = r'student - mat - delimiter - semicolon.csv'\n",
    "try:\n",
    "    data_semicolon = pd.read_csv(file_path, delimiter=';')\n",
    "    print (\"\\nData using semicolon (';') delimiter:\")\n",
    "    print(data_semicolon)\n",
    "except pd.errors.ParserError:\n",
    "    print (\"Failed to read with semicolon (';') delimiter\")\n"
   ]
  },
  {
   "cell_type": "markdown",
   "metadata": {},
   "source": [
    "    Write a Python program to read the CSV file into a dataframe using a library in python."
   ]
  },
  {
   "cell_type": "code",
   "execution_count": 8,
   "metadata": {},
   "outputs": [
    {
     "name": "stdout",
     "output_type": "stream",
     "text": [
      "          Date     Sales\n",
      "0     ########     21199\n",
      "1     ########     10634\n",
      "2    ########       7966\n",
      "3    ########       1353\n",
      "4    ########       9497\n",
      "..                   ...\n",
      "752   ########    4274.9\n",
      "753   ########   45805.7\n",
      "754   ########   35566.3\n",
      "755    ########    46703\n",
      "756                    \f\n",
      "\n",
      "[757 rows x 1 columns]\n"
     ]
    }
   ],
   "source": [
    "file_path = r'Groceries_Sales_data.csv'\n",
    "data = pd.read_csv(file_path)\n",
    "print(data)"
   ]
  },
  {
   "cell_type": "markdown",
   "metadata": {},
   "source": [
    "    Write a program to read a given CSV file as a dictionary? "
   ]
  },
  {
   "cell_type": "code",
   "execution_count": 9,
   "metadata": {},
   "outputs": [
    {
     "name": "stdout",
     "output_type": "stream",
     "text": [
      "[{'Date     Sales': '########     21199'}, {'Date     Sales': '########     10634'}, {'Date     Sales': '########       7966'}, {'Date     Sales': '########       1353'}, {'Date     Sales': '########       9497'}, {'Date     Sales': '########       8207'}, {'Date     Sales': '########       7581'}, {'Date     Sales': '########       7471'}, {'Date     Sales': '########       7878'}, {'Date     Sales': '########       5314'}, {'Date     Sales': '########       1605'}, {'Date     Sales': '########       9419'}, {'Date     Sales': '########       9610'}, {'Date     Sales': '########    6388.1'}, {'Date     Sales': '########     11799'}, {'Date     Sales': '######## 21437.1'}, {'Date     Sales': '######## 19803.6'}, {'Date     Sales': '########       2091'}, {'Date     Sales': '######## 18951.7'}, {'Date     Sales': '######## 23779.6'}, {'Date     Sales': '######## 21844.7'}, {'Date     Sales': '########     30774'}, {'Date     Sales': '######## 50480.9'}, {'Date     Sales': '######## 22024.3'}, {'Date     Sales': '########    2694.5'}, {'Date     Sales': '######## 71351.6'}, {'Date     Sales': '######## 49382.8'}, {'Date     Sales': '######## 26444.8'}, {'Date     Sales': '######## 11460.7'}, {'Date     Sales': '########        58.9'}, {'Date     Sales': '########    7891.7'}, {'Date     Sales': '########    1644.1'}, {'Date     Sales': '######## 12868.3'}, {'Date     Sales': '########    8871.2'}, {'Date     Sales': '########       9836'}, {'Date     Sales': '########    8065.6'}, {'Date     Sales': '########    8132.9'}, {'Date     Sales': '########    5688.7'}, {'Date     Sales': '########    1464.3'}, {'Date     Sales': '######## 10567.1'}, {'Date     Sales': '########    9085.1'}, {'Date     Sales': '########       9289'}, {'Date     Sales': '######## 11707.2'}, {'Date     Sales': '######## 22876.3'}, {'Date     Sales': '########    7916.1'}, {'Date     Sales': '########    2237.2'}, {'Date     Sales': '\\x0c########   15889.3'}, {'Date     Sales': '########   31675.5'}, {'Date     Sales': '########   17075.4'}, {'Date     Sales': '########   23412.3'}, {'Date     Sales': '########   25152.7'}, {'Date     Sales': '########   16958.7'}, {'Date     Sales': '########    2244.1'}, {'Date     Sales': '########   41275.2'}, {'Date     Sales': '########   46658.8'}, {'Date     Sales': '########   43621.4'}, {'Date     Sales': '########   33322.5'}, {'Date     Sales': '########    31923'}, {'Date     Sales': '########   46333.1'}, {'Date     Sales': '########    6925.8'}, {'Date     Sales': '########    8151.2'}, {'Date     Sales': '########    7110.8'}, {'Date     Sales': '########    6902.1'}, {'Date     Sales': '########    4860.1'}, {'Date     Sales': '########    4571.4'}, {'Date     Sales': '########    4055.7'}, {'Date     Sales': '########     898.2'}, {'Date     Sales': '########    5045.7'}, {'Date     Sales': '########    4678.6'}, {'Date     Sales': '########    4115.9'}, {'Date     Sales': '########    4487.7'}, {'Date     Sales': '########    4155.6'}, {'Date     Sales': '########    2737.9'}, {'Date     Sales': '########    1183.3'}, {'Date     Sales': '########    6787.8'}, {'Date     Sales': '########    8028.4'}, {'Date     Sales': '########    8219.2'}, {'Date     Sales': '########    9993.6'}, {'Date     Sales': '########   14599.7'}, {'Date     Sales': '########   10646.4'}, {'Date     Sales': '########    2686.2'}, {'Date     Sales': '########   27317.7'}, {'Date     Sales': '########   30021.8'}, {'Date     Sales': '########   31605.1'}, {'Date     Sales': '########   51020.7'}, {'Date     Sales': '########    40783'}, {'Date     Sales': '########   33812.5'}, {'Date     Sales': '########    2742.3'}, {'Date     Sales': '########   13708.2'}, {'Date     Sales': '########   22555.1'}, {'Date     Sales': '########   17510.5'}, {'Date     Sales': '########   14385.2'}, {'Date     Sales': '########   10783.4'}, {'Date     Sales': '\\x0c########    9082.2'}, {'Date     Sales': '########    2155.4'}, {'Date     Sales': '########   11129.2'}, {'Date     Sales': '########   11417.9'}, {'Date     Sales': '########    9016.7'}, {'Date     Sales': '########    9672.3'}, {'Date     Sales': '########   10282.1'}, {'Date     Sales': '########    6648.8'}, {'Date     Sales': '########    2394.6'}, {'Date     Sales': '########   11437.9'}, {'Date     Sales': '########   11221.5'}, {'Date     Sales': '########   12807.5'}, {'Date     Sales': '########   13519.7'}, {'Date     Sales': '########   15955.9'}, {'Date     Sales': '########   13321.1'}, {'Date     Sales': '########    3063.1'}, {'Date     Sales': '########   26437.2'}, {'Date     Sales': '########   25371.5'}, {'Date     Sales': '########   30711.1'}, {'Date     Sales': '########    37159'}, {'Date     Sales': '########   40921.4'}, {'Date     Sales': '########   22755.9'}, {'Date     Sales': '########    4650.7'}, {'Date     Sales': '########   60733.8'}, {'Date     Sales': '########    48357'}, {'Date     Sales': '########   46485.9'}, {'Date     Sales': '########   31337.2'}, {'Date     Sales': '########   20578.7'}, {'Date     Sales': '########   15753.7'}, {'Date     Sales': '########    3489.7'}, {'Date     Sales': '########   20776.7'}, {'Date     Sales': '########   16229.6'}, {'Date     Sales': '########   27200.9'}, {'Date     Sales': '########   14458.5'}, {'Date     Sales': '########   11863.4'}, {'Date     Sales': '########    8131.7'}, {'Date     Sales': '########    3696.9'}, {'Date     Sales': '########   15733.9'}, {'Date     Sales': '########   14364.2'}, {'Date     Sales': '########   12811.4'}, {'Date     Sales': '########   14544.8'}, {'Date     Sales': '########   14289.8'}, {'Date     Sales': '########    4233.9'}, {'Date     Sales': '########    3762.5'}, {'Date     Sales': '########    22880'}, {'Date     Sales': '########    28244'}, {'Date     Sales': '########   28708.5'}, {'Date     Sales': '\\x0c########   27414.9'}, {'Date     Sales': '########   28589.9'}, {'Date     Sales': '########   22627.5'}, {'Date     Sales': '########    4520.2'}, {'Date     Sales': '########   46469.5'}, {'Date     Sales': '########   53220.4'}, {'Date     Sales': '########   61963.5'}, {'Date     Sales': '########   74489.5'}, {'Date     Sales': '########   61894.8'}, {'Date     Sales': '########   41949.6'}, {'Date     Sales': '########    5509.3'}, {'Date     Sales': '########   29805.5'}, {'Date     Sales': '########   19645.6'}, {'Date     Sales': '########   16913.9'}, {'Date     Sales': '########   17242.9'}, {'Date     Sales': '########   17157.3'}, {'Date     Sales': '########   13316.7'}, {'Date     Sales': '########    4665.9'}, {'Date     Sales': '########   18687.2'}, {'Date     Sales': '########   18009.4'}, {'Date     Sales': '########   15891.9'}, {'Date     Sales': '########   18174.5'}, {'Date     Sales': '########   15355.7'}, {'Date     Sales': '########   12372.8'}, {'Date     Sales': '########    4690.1'}, {'Date     Sales': '########   20394.4'}, {'Date     Sales': '########   26131.5'}, {'Date     Sales': '########   29386.3'}, {'Date     Sales': '########   24352.9'}, {'Date     Sales': '########   22620.7'}, {'Date     Sales': '########   19514.5'}, {'Date     Sales': '########    4267.9'}, {'Date     Sales': '########   45856.3'}, {'Date     Sales': '########   38732.7'}, {'Date     Sales': '########   46221.5'}, {'Date     Sales': '########    52938'}, {'Date     Sales': '########   46796.2'}, {'Date     Sales': '########   32950.5'}, {'Date     Sales': '########    5704.1'}, {'Date     Sales': '########   65825.8'}, {'Date     Sales': '########   52906.5'}, {'Date     Sales': '########   27341.2'}, {'Date     Sales': '########   21354.2'}, {'Date     Sales': '########   27308.5'}, {'Date     Sales': '########   16276.6'}, {'Date     Sales': '########    4596.7'}, {'Date     Sales': '########   19114.2'}, {'Date     Sales': '\\x0c########   17267.6'}, {'Date     Sales': '########   18494.4'}, {'Date     Sales': '########   16697.4'}, {'Date     Sales': '########   15956.6'}, {'Date     Sales': '########   11533.7'}, {'Date     Sales': '########    4464.5'}, {'Date     Sales': '########   20011.6'}, {'Date     Sales': '########   18058.2'}, {'Date     Sales': '########    3450.4'}, {'Date     Sales': '########   22507.5'}, {'Date     Sales': '########   17092.3'}, {'Date     Sales': '########   19181.2'}, {'Date     Sales': '########    3990.5'}, {'Date     Sales': '########   28091.9'}, {'Date     Sales': '########   38496.3'}, {'Date     Sales': '########   10480.8'}, {'Date     Sales': '########   56298.2'}, {'Date     Sales': '########    37672'}, {'Date     Sales': '########   23633.9'}, {'Date     Sales': '########    3710.6'}, {'Date     Sales': '########   54925.2'}, {'Date     Sales': '########   53788.5'}, {'Date     Sales': '########   62899.9'}, {'Date     Sales': '########   65288.1'}, {'Date     Sales': '########   43929.1'}, {'Date     Sales': '########   17618.1'}, {'Date     Sales': '########    4575.7'}, {'Date     Sales': '########     9763'}, {'Date     Sales': '########   23866.7'}, {'Date     Sales': '########   19661.2'}, {'Date     Sales': '########   16321.7'}, {'Date     Sales': '########   16265.7'}, {'Date     Sales': '########   11666.3'}, {'Date     Sales': '########    4337.3'}, {'Date     Sales': '########   19466.9'}, {'Date     Sales': '########   16803.7'}, {'Date     Sales': '########   15478.6'}, {'Date     Sales': '########   15171.8'}, {'Date     Sales': '########   16305.5'}, {'Date     Sales': '########   15669.6'}, {'Date     Sales': '########    4950.5'}, {'Date     Sales': '########   24660.2'}, {'Date     Sales': '########    30134'}, {'Date     Sales': '########   38235.3'}, {'Date     Sales': '########   26995.4'}, {'Date     Sales': '########   15587.8'}, {'Date     Sales': '########    18783'}, {'Date     Sales': '\\x0c########    4560.8'}, {'Date     Sales': '########   44122.7'}, {'Date     Sales': '########   55352.5'}, {'Date     Sales': '########   52274.7'}, {'Date     Sales': '########    52464'}, {'Date     Sales': '########   83179.2'}, {'Date     Sales': '########   66688.3'}, {'Date     Sales': '########     8009'}, {'Date     Sales': '########   28486.4'}, {'Date     Sales': '########    4553.2'}, {'Date     Sales': '########   20925.9'}, {'Date     Sales': '########   16314.9'}, {'Date     Sales': '########   14609.6'}, {'Date     Sales': '########   11806.5'}, {'Date     Sales': '########    3884.3'}, {'Date     Sales': '########    15505'}, {'Date     Sales': '########   12447.8'}, {'Date     Sales': '########   12378.3'}, {'Date     Sales': '########   12325.3'}, {'Date     Sales': '########   13019.9'}, {'Date     Sales': '########    9457.8'}, {'Date     Sales': '########     3286'}, {'Date     Sales': '########   16799.6'}, {'Date     Sales': '########   16927.7'}, {'Date     Sales': '########    22731'}, {'Date     Sales': '########    34661'}, {'Date     Sales': '########    4794.6'}, {'Date     Sales': '########   18943.4'}, {'Date     Sales': '########    5135.9'}, {'Date     Sales': '########   37484.9'}, {'Date     Sales': '########   38855.8'}, {'Date     Sales': '########   32734.4'}, {'Date     Sales': '########   64702.6'}, {'Date     Sales': '########   44417.7'}, {'Date     Sales': '########    24819'}, {'Date     Sales': '########    4430.9'}, {'Date     Sales': '########    39007'}, {'Date     Sales': '########   60539.6'}, {'Date     Sales': '########   19387.5'}, {'Date     Sales': '########   15339.9'}, {'Date     Sales': '########   12665.4'}, {'Date     Sales': '########   10206.1'}, {'Date     Sales': '########    2915.6'}, {'Date     Sales': '########   10795.5'}, {'Date     Sales': '########    8834.2'}, {'Date     Sales': '########    1511.9'}, {'Date     Sales': '########    5843.5'}, {'Date     Sales': '\\x0c########    7115.8'}, {'Date     Sales': '########    9087.3'}, {'Date     Sales': '########    3011.4'}, {'Date     Sales': '########   19562.8'}, {'Date     Sales': '########    11561'}, {'Date     Sales': '########   13559.9'}, {'Date     Sales': '########   15849.2'}, {'Date     Sales': '########   18572.4'}, {'Date     Sales': '########    15520'}, {'Date     Sales': '########     3471'}, {'Date     Sales': '########   23779.9'}, {'Date     Sales': '########   26338.1'}, {'Date     Sales': '########   17845.1'}, {'Date     Sales': '########   55185.8'}, {'Date     Sales': '########   17711.5'}, {'Date     Sales': '########   33205.1'}, {'Date     Sales': '########    5263.2'}, {'Date     Sales': '########    70069'}, {'Date     Sales': '########   49909.2'}, {'Date     Sales': '########   42131.6'}, {'Date     Sales': '########   47685.7'}, {'Date     Sales': '########   21533.1'}, {'Date     Sales': '########   12805.3'}, {'Date     Sales': '########    3009.1'}, {'Date     Sales': '########   13171.4'}, {'Date     Sales': '########   11432.3'}, {'Date     Sales': '########    11453'}, {'Date     Sales': '########   10254.5'}, {'Date     Sales': '########   10355.9'}, {'Date     Sales': '########     5981'}, {'Date     Sales': '########    2147.2'}, {'Date     Sales': '########    9846.9'}, {'Date     Sales': '########    8396.9'}, {'Date     Sales': '########    8771.4'}, {'Date     Sales': '########    8858.3'}, {'Date     Sales': '########   10512.3'}, {'Date     Sales': '########   10536.2'}, {'Date     Sales': '########    2501.3'}, {'Date     Sales': '########   15369.9'}, {'Date     Sales': '########   29182.6'}, {'Date     Sales': '########   23092.5'}, {'Date     Sales': '########   27909.5'}, {'Date     Sales': '########   25513.2'}, {'Date     Sales': '########   17027.2'}, {'Date     Sales': '########    3383.4'}, {'Date     Sales': '########   44627.1'}, {'Date     Sales': '########    9750.2'}, {'Date     Sales': '\\x0c########   55054.1'}, {'Date     Sales': '########   41494.1'}, {'Date     Sales': '########   44547.6'}, {'Date     Sales': '########   37483.2'}, {'Date     Sales': '########    4031.3'}, {'Date     Sales': '########   24158.2'}, {'Date     Sales': '########    8437.5'}, {'Date     Sales': '########   12322.3'}, {'Date     Sales': '########    8172.1'}, {'Date     Sales': '########    8868.9'}, {'Date     Sales': '########    6354.7'}, {'Date     Sales': '########    1979.6'}, {'Date     Sales': '########     7646'}, {'Date     Sales': '########    7001.5'}, {'Date     Sales': '########    5179.1'}, {'Date     Sales': '########     8923'}, {'Date     Sales': '########    9227.5'}, {'Date     Sales': '########    5859.8'}, {'Date     Sales': '########    2042.2'}, {'Date     Sales': '########    9074.6'}, {'Date     Sales': '########    12388'}, {'Date     Sales': '########   10572.1'}, {'Date     Sales': '########   12677.2'}, {'Date     Sales': '########   13925.6'}, {'Date     Sales': '########   11694.8'}, {'Date     Sales': '########    3036.7'}, {'Date     Sales': '########   25910.3'}, {'Date     Sales': '########   34422.5'}, {'Date     Sales': '########   27423.6'}, {'Date     Sales': '########   33439.4'}, {'Date     Sales': '########   53021.3'}, {'Date     Sales': '########    2788.1'}, {'Date     Sales': '########     4245'}, {'Date     Sales': '########   72701.6'}, {'Date     Sales': '########   60070.6'}, {'Date     Sales': '########   35566.2'}, {'Date     Sales': '########   22391.3'}, {'Date     Sales': '########   16129.8'}, {'Date     Sales': '########    9357.4'}, {'Date     Sales': '########    2844.1'}, {'Date     Sales': '########   12342.3'}, {'Date     Sales': '########   10500.7'}, {'Date     Sales': '########    8978.1'}, {'Date     Sales': '########    7616.3'}, {'Date     Sales': '########    8011.8'}, {'Date     Sales': '########    5471.6'}, {'Date     Sales': '########    2113.1'}, {'Date     Sales': '\\x0c########   10295.7'}, {'Date     Sales': '########    9591.8'}, {'Date     Sales': '########    9680.1'}, {'Date     Sales': '########   10478.5'}, {'Date     Sales': '########   10993.5'}, {'Date     Sales': '########    9604.8'}, {'Date     Sales': '########    2693.6'}, {'Date     Sales': '########   15910.3'}, {'Date     Sales': '########   31827.7'}, {'Date     Sales': '########   25100.5'}, {'Date     Sales': '########   28831.4'}, {'Date     Sales': '########    32129'}, {'Date     Sales': '########   22354.1'}, {'Date     Sales': '########    4648.2'}, {'Date     Sales': '########   73733.6'}, {'Date     Sales': '########   65777.8'}, {'Date     Sales': '########   40431.9'}, {'Date     Sales': '########   46564.2'}, {'Date     Sales': '########   19516.4'}, {'Date     Sales': '########   12366.2'}, {'Date     Sales': '########    3036.7'}, {'Date     Sales': '########     8378'}, {'Date     Sales': '########   15222.8'}, {'Date     Sales': '########    11074'}, {'Date     Sales': '########   10256.1'}, {'Date     Sales': '########    9366.4'}, {'Date     Sales': '########    6810.4'}, {'Date     Sales': '########     2591'}, {'Date     Sales': '########   12175.7'}, {'Date     Sales': '########   12508.9'}, {'Date     Sales': '########   11208.1'}, {'Date     Sales': '########   11988.4'}, {'Date     Sales': '########   20321.9'}, {'Date     Sales': '########   12435.1'}, {'Date     Sales': '########    2953.8'}, {'Date     Sales': '########   26248.7'}, {'Date     Sales': '########   24450.2'}, {'Date     Sales': '########   22636.5'}, {'Date     Sales': '########    2167.8'}, {'Date     Sales': '########   40821.1'}, {'Date     Sales': '########   26656.1'}, {'Date     Sales': '########    5055.1'}, {'Date     Sales': '########    75407'}, {'Date     Sales': '########    58064'}, {'Date     Sales': '########   30192.8'}, {'Date     Sales': '########   50720.4'}, {'Date     Sales': '########   23632.1'}, {'Date     Sales': '\\x0c########   12616.4'}, {'Date     Sales': '########    2762.7'}, {'Date     Sales': '########    7406.1'}, {'Date     Sales': '########    5257.1'}, {'Date     Sales': '########    4290.3'}, {'Date     Sales': '########    4654.4'}, {'Date     Sales': '########    3990.6'}, {'Date     Sales': '########    3408.7'}, {'Date     Sales': '########    1573.4'}, {'Date     Sales': '########    5079.6'}, {'Date     Sales': '########    4785.9'}, {'Date     Sales': '########    4712.8'}, {'Date     Sales': '########    6828.8'}, {'Date     Sales': '########    5920.6'}, {'Date     Sales': '########    3536.7'}, {'Date     Sales': '########    1558.2'}, {'Date     Sales': '########    8089.9'}, {'Date     Sales': '########    9150.6'}, {'Date     Sales': '########    6756.2'}, {'Date     Sales': '########   15371.2'}, {'Date     Sales': '########    4787.3'}, {'Date     Sales': '########   15528.8'}, {'Date     Sales': '########     3407'}, {'Date     Sales': '########   29316.4'}, {'Date     Sales': '########   25288.4'}, {'Date     Sales': '########   29927.4'}, {'Date     Sales': '########   33601.1'}, {'Date     Sales': '########   48489.9'}, {'Date     Sales': '########   40230.3'}, {'Date     Sales': '########     5035'}, {'Date     Sales': '########   61319.4'}, {'Date     Sales': '########   29912.8'}, {'Date     Sales': '########   16402.6'}, {'Date     Sales': '########   15126.4'}, {'Date     Sales': '########   11177.2'}, {'Date     Sales': '########    7933.8'}, {'Date     Sales': '########     2854'}, {'Date     Sales': '########   10437.2'}, {'Date     Sales': '########    9716.5'}, {'Date     Sales': '########    9119.2'}, {'Date     Sales': '########    9336.8'}, {'Date     Sales': '########    9110.9'}, {'Date     Sales': '########    6406.7'}, {'Date     Sales': '########    2199.9'}, {'Date     Sales': '########    11360'}, {'Date     Sales': '########   12447.4'}, {'Date     Sales': '########   12670.2'}, {'Date     Sales': '\\x0c########    13216'}, {'Date     Sales': '########   24761.5'}, {'Date     Sales': '########   10843.4'}, {'Date     Sales': '########    4212.9'}, {'Date     Sales': '########   33563.4'}, {'Date     Sales': '########   35515.8'}, {'Date     Sales': '########   34907.9'}, {'Date     Sales': '########   37652.8'}, {'Date     Sales': '########    39348'}, {'Date     Sales': '########   27442.4'}, {'Date     Sales': '########    6399.5'}, {'Date     Sales': '########   74048.3'}, {'Date     Sales': '########   48082.2'}, {'Date     Sales': '########   54858.4'}, {'Date     Sales': '########   41381.3'}, {'Date     Sales': '########   19249.4'}, {'Date     Sales': '########    13361'}, {'Date     Sales': '########     4812'}, {'Date     Sales': '########   15710.8'}, {'Date     Sales': '########    14293'}, {'Date     Sales': '########    5355.9'}, {'Date     Sales': '########   15637.7'}, {'Date     Sales': '########   13038.6'}, {'Date     Sales': '########    9359.8'}, {'Date     Sales': '########    3939.8'}, {'Date     Sales': '########   15627.6'}, {'Date     Sales': '########   15100.5'}, {'Date     Sales': '########   14455.2'}, {'Date     Sales': '########   14240.6'}, {'Date     Sales': '########   17115.1'}, {'Date     Sales': '########   14856.8'}, {'Date     Sales': '########     4793'}, {'Date     Sales': '########   23135.1'}, {'Date     Sales': '########   25090.1'}, {'Date     Sales': '########   25626.9'}, {'Date     Sales': '########   38199.9'}, {'Date     Sales': '########   47246.4'}, {'Date     Sales': '########   21461.1'}, {'Date     Sales': '########    7670.9'}, {'Date     Sales': '########   56545.3'}, {'Date     Sales': '########   51273.2'}, {'Date     Sales': '########   53670.9'}, {'Date     Sales': '########   67121.7'}, {'Date     Sales': '########   63249.8'}, {'Date     Sales': '########   32458.2'}, {'Date     Sales': '########    6353.9'}, {'Date     Sales': '########   23003.8'}, {'Date     Sales': '\\x0c########   19508.5'}, {'Date     Sales': '########    17317'}, {'Date     Sales': '########   15125.5'}, {'Date     Sales': '########   13859.1'}, {'Date     Sales': '########   13318.4'}, {'Date     Sales': '########    5610.9'}, {'Date     Sales': '########   17737.1'}, {'Date     Sales': '########   15961.9'}, {'Date     Sales': '########   15614.7'}, {'Date     Sales': '########   16725.7'}, {'Date     Sales': '########   17235.5'}, {'Date     Sales': '########   12056.1'}, {'Date     Sales': '########    6060.5'}, {'Date     Sales': '########   23048.2'}, {'Date     Sales': '########   22371.9'}, {'Date     Sales': '########   21738.7'}, {'Date     Sales': '########   43923.7'}, {'Date     Sales': '########   29724.8'}, {'Date     Sales': '########   25612.4'}, {'Date     Sales': '########    6632.6'}, {'Date     Sales': '########   45451.8'}, {'Date     Sales': '########   38933.9'}, {'Date     Sales': '########   47496.7'}, {'Date     Sales': '########   50059.2'}, {'Date     Sales': '########   55538.3'}, {'Date     Sales': '########   38635.1'}, {'Date     Sales': '########     8328'}, {'Date     Sales': '########   76956.8'}, {'Date     Sales': '########   31973.6'}, {'Date     Sales': '########    24699'}, {'Date     Sales': '########   18898.2'}, {'Date     Sales': '########   17726.7'}, {'Date     Sales': '########   13146.9'}, {'Date     Sales': '########    5987.1'}, {'Date     Sales': '########   16716.4'}, {'Date     Sales': '########   15604.3'}, {'Date     Sales': '########    15581'}, {'Date     Sales': '########   13851.7'}, {'Date     Sales': '########   13610.9'}, {'Date     Sales': '########   10305.7'}, {'Date     Sales': '########     3981'}, {'Date     Sales': '########    6425.8'}, {'Date     Sales': '########    20999'}, {'Date     Sales': '########   17492.2'}, {'Date     Sales': '########    3217.1'}, {'Date     Sales': '########   19665.1'}, {'Date     Sales': '########   15133.7'}, {'Date     Sales': '\\x0c########     5708'}, {'Date     Sales': '########   28430.8'}, {'Date     Sales': '########   42350.5'}, {'Date     Sales': '########   24144.2'}, {'Date     Sales': '########   32660.3'}, {'Date     Sales': '########   51345.3'}, {'Date     Sales': '########   11040.6'}, {'Date     Sales': '########    7555.9'}, {'Date     Sales': '########   76855.4'}, {'Date     Sales': '########   60822.8'}, {'Date     Sales': '########   59058.5'}, {'Date     Sales': '########    66909'}, {'Date     Sales': '########   37946.9'}, {'Date     Sales': '########   24087.9'}, {'Date     Sales': '########    6508.2'}, {'Date     Sales': '########    20851'}, {'Date     Sales': '########   17686.3'}, {'Date     Sales': '########   16238.5'}, {'Date     Sales': '########   17684.8'}, {'Date     Sales': '########   16770.8'}, {'Date     Sales': '########   13681.2'}, {'Date     Sales': '########    5377.9'}, {'Date     Sales': '########   18013.6'}, {'Date     Sales': '########    8949.6'}, {'Date     Sales': '########   19539.5'}, {'Date     Sales': '########   19980.1'}, {'Date     Sales': '########   17117.9'}, {'Date     Sales': '########   12597.8'}, {'Date     Sales': '########    5282.6'}, {'Date     Sales': '########   23566.4'}, {'Date     Sales': '########   21552.7'}, {'Date     Sales': '########   42180.3'}, {'Date     Sales': '########   28093.4'}, {'Date     Sales': '########   31941.9'}, {'Date     Sales': '########   29022.1'}, {'Date     Sales': '########     7198'}, {'Date     Sales': '########   58347.6'}, {'Date     Sales': '########   55071.4'}, {'Date     Sales': '########   51987.1'}, {'Date     Sales': '########   51983.5'}, {'Date     Sales': '########   57381.2'}, {'Date     Sales': '########   45213.2'}, {'Date     Sales': '########    7451.1'}, {'Date     Sales': '########   45008.1'}, {'Date     Sales': '########   19706.5'}, {'Date     Sales': '########    6054.1'}, {'Date     Sales': '########   19278.2'}, {'Date     Sales': '\\x0c########   14499.4'}, {'Date     Sales': '########    13129'}, {'Date     Sales': '########    5060.2'}, {'Date     Sales': '########   14750.3'}, {'Date     Sales': '########    4785.6'}, {'Date     Sales': '########    16788'}, {'Date     Sales': '########    16619'}, {'Date     Sales': '########   15167.4'}, {'Date     Sales': '########   10330.9'}, {'Date     Sales': '########    4677.3'}, {'Date     Sales': '########   20604.7'}, {'Date     Sales': '########   21115.8'}, {'Date     Sales': '########   20422.1'}, {'Date     Sales': '########   22340.8'}, {'Date     Sales': '########   48591.5'}, {'Date     Sales': '########   24108.1'}, {'Date     Sales': '########    6107.8'}, {'Date     Sales': '########   50549.4'}, {'Date     Sales': '########   57816.7'}, {'Date     Sales': '########   41733.3'}, {'Date     Sales': '########   48369.7'}, {'Date     Sales': '########   60572.4'}, {'Date     Sales': '########    20419'}, {'Date     Sales': '########    2416.6'}, {'Date     Sales': '########   30995.2'}, {'Date     Sales': '########   22823.1'}, {'Date     Sales': '########   30631.4'}, {'Date     Sales': '########   22340.3'}, {'Date     Sales': '########   15410.8'}, {'Date     Sales': '########    9801.7'}, {'Date     Sales': '########    3541.2'}, {'Date     Sales': '########   14631.5'}, {'Date     Sales': '########   12010.6'}, {'Date     Sales': '########   10988.9'}, {'Date     Sales': '########   10899.9'}, {'Date     Sales': '########    9983.8'}, {'Date     Sales': '########    6276.5'}, {'Date     Sales': '########    2521.4'}, {'Date     Sales': '########   12038.8'}, {'Date     Sales': '########    6078.6'}, {'Date     Sales': '########   14545.8'}, {'Date     Sales': '########   14845.5'}, {'Date     Sales': '########   17496.2'}, {'Date     Sales': '########   16003.2'}, {'Date     Sales': '########    4595.1'}, {'Date     Sales': '########   42107.4'}, {'Date     Sales': '########   36581.8'}, {'Date     Sales': '\\x0c########    39892'}, {'Date     Sales': '########   48329.5'}, {'Date     Sales': '########   59797.5'}, {'Date     Sales': '########   18623.2'}, {'Date     Sales': '########    4495.1'}, {'Date     Sales': '########   47455.7'}, {'Date     Sales': '########    50108'}, {'Date     Sales': '########    40303'}, {'Date     Sales': '########   49182.3'}, {'Date     Sales': '########    25446'}, {'Date     Sales': '########   15390.9'}, {'Date     Sales': '########    3012.1'}, {'Date     Sales': '########   13229.5'}, {'Date     Sales': '########   10515.6'}, {'Date     Sales': '########    9928.2'}, {'Date     Sales': '########   10090.6'}, {'Date     Sales': '########    9650.9'}, {'Date     Sales': '########    6406.6'}, {'Date     Sales': '########    2360.7'}, {'Date     Sales': '########    9899.7'}, {'Date     Sales': '########    8546.8'}, {'Date     Sales': '########    8643.2'}, {'Date     Sales': '########    9299.9'}, {'Date     Sales': '########   10904.9'}, {'Date     Sales': '########    7253.7'}, {'Date     Sales': '########    2509.9'}, {'Date     Sales': '########   18611.5'}, {'Date     Sales': '########    23965'}, {'Date     Sales': '########   22363.1'}, {'Date     Sales': '########   25555.6'}, {'Date     Sales': '########   29049.3'}, {'Date     Sales': '########    23002'}, {'Date     Sales': '########    5304.6'}, {'Date     Sales': '########   45420.6'}, {'Date     Sales': '########   42336.8'}, {'Date     Sales': '########    9293.7'}, {'Date     Sales': '########   51757.3'}, {'Date     Sales': '########   44154.6'}, {'Date     Sales': '########   21527.6'}, {'Date     Sales': '########    3058.5'}, {'Date     Sales': '########   47041.5'}, {'Date     Sales': '########   20839.1'}, {'Date     Sales': '########    7353.6'}, {'Date     Sales': '########    7959.7'}, {'Date     Sales': '########    7559.3'}, {'Date     Sales': '########    6162.3'}, {'Date     Sales': '########    2085.9'}, {'Date     Sales': '\\x0c########     8120'}, {'Date     Sales': '########    7464.4'}, {'Date     Sales': '########    6385.6'}, {'Date     Sales': '########     7873'}, {'Date     Sales': '########    8899.9'}, {'Date     Sales': '########    5812.9'}, {'Date     Sales': '########    2215.1'}, {'Date     Sales': '########    8717.6'}, {'Date     Sales': '########    11287'}, {'Date     Sales': '########    12726'}, {'Date     Sales': '########   15798.4'}, {'Date     Sales': '########   18667.6'}, {'Date     Sales': '########   19180.4'}, {'Date     Sales': '########    4331.7'}, {'Date     Sales': '########   32589.4'}, {'Date     Sales': '########   36437.7'}, {'Date     Sales': '########   32795.7'}, {'Date     Sales': '########   30409.3'}, {'Date     Sales': '########   40005.7'}, {'Date     Sales': '########   15070.5'}, {'Date     Sales': '########    2343.3'}, {'Date     Sales': '########   41210.2'}, {'Date     Sales': '########   48276.2'}, {'Date     Sales': '########   43421.1'}, {'Date     Sales': '########   33991.7'}, {'Date     Sales': '########   16010.9'}, {'Date     Sales': '########    6986.7'}, {'Date     Sales': '########    2718.4'}, {'Date     Sales': '########   10131.1'}, {'Date     Sales': '########    9970.3'}, {'Date     Sales': '########   10905.6'}, {'Date     Sales': '########    8210.8'}, {'Date     Sales': '########    9080.8'}, {'Date     Sales': '########    2191.7'}, {'Date     Sales': '########    2559.2'}, {'Date     Sales': '########    9920.1'}, {'Date     Sales': '########    9332.1'}, {'Date     Sales': '########   10593.3'}, {'Date     Sales': '########   12838.9'}, {'Date     Sales': '########   14402.9'}, {'Date     Sales': '########   10866.3'}, {'Date     Sales': '########    3598.1'}, {'Date     Sales': '########   24425.7'}, {'Date     Sales': '########   32450.5'}, {'Date     Sales': '########   35041.9'}, {'Date     Sales': '########   28088.8'}, {'Date     Sales': '########   24412.5'}, {'Date     Sales': '\\x0c########   18723.1'}, {'Date     Sales': '########    4274.9'}, {'Date     Sales': '########   45805.7'}, {'Date     Sales': '########   35566.3'}, {'Date     Sales': '########    46703'}, {'Date     Sales': '\\x0c'}]\n"
     ]
    }
   ],
   "source": [
    "df = pd.read_csv(r'Groceries_Sales_data.csv')\n",
    "result = df.to_dict(orient='records')\n",
    "print(result)\n"
   ]
  },
  {
   "cell_type": "markdown",
   "metadata": {},
   "source": [
    "    Write a Python program that reads data from a CSV file that may contain mixed delimiters (e.g., some rows using commas, and some rows using semicolons). Parse the data and separate it into two lists: one for comma-delimited rows and one for semicolon-delimited rows."
   ]
  },
  {
   "cell_type": "code",
   "execution_count": 4,
   "metadata": {},
   "outputs": [
    {
     "name": "stdout",
     "output_type": "stream",
     "text": [
      "Comma-delimited rows:\n",
      "[]\n",
      "Semicolon-delimited rows:\n",
      "[]\n"
     ]
    }
   ],
   "source": [
    "import csv\n",
    "\n",
    "with open(r'Groceries_Sales_data.csv', 'r') as f:\n",
    "    sniffer = csv.Sniffer()\n",
    "    comma_rows = []\n",
    "    semicolon_rows = []\n",
    "    for line in f:\n",
    "        dialect = sniffer.sniff(line)\n",
    "        delimiter = dialect.delimiter\n",
    "        reader = csv.reader([line], delimiter=delimiter)\n",
    "        row = next(reader)\n",
    "        if delimiter == ',':\n",
    "            comma_rows.append(row)\n",
    "        elif delimiter == ';':\n",
    "            semicolon_rows.append(row)\n",
    "        else:\n",
    "            pass\n",
    "    print('Comma-delimited rows:')\n",
    "    print(comma_rows)\n",
    "    print('Semicolon-delimited rows:')\n",
    "    print(semicolon_rows)\n"
   ]
  },
  {
   "cell_type": "markdown",
   "metadata": {},
   "source": [
    "    Write a Python program to write a dataframe into the CSV file using a python library in python."
   ]
  },
  {
   "cell_type": "code",
   "execution_count": 11,
   "metadata": {},
   "outputs": [
    {
     "name": "stdout",
     "output_type": "stream",
     "text": [
      "DataFrame has been successfully written to Random CSV File - 1.csv.\n",
      "   Column1 Column2  Column3\n",
      "0        1       A      0.1\n",
      "1        2       B      0.2\n",
      "2        3       C      0.3\n",
      "3        4       D      0.4\n"
     ]
    }
   ],
   "source": [
    "data = {\n",
    "    'Column1': [1, 2, 3, 4],\n",
    "    'Column2': ['A', 'B', 'C', 'D'],\n",
    "    'Column3': [0.1, 0.2, 0.3, 0.4]\n",
    "}\n",
    "df = pd.DataFrame(data)\n",
    "output_file = r'Random CSV File - 1.csv'\n",
    "df.to_csv(output_file, index=False)\n",
    "print(f\"DataFrame has been successfully written to {output_file}.\")\n",
    "\n",
    "\n",
    "data = pd.read_csv(output_file)\n",
    "print(data)"
   ]
  },
  {
   "cell_type": "markdown",
   "metadata": {},
   "source": [
    "    Write a Python program to display a pdf file into a dataframe using a library in python."
   ]
  },
  {
   "cell_type": "code",
   "execution_count": 14,
   "metadata": {},
   "outputs": [
    {
     "name": "stdout",
     "output_type": "stream",
     "text": [
      "           Text\n",
      "0         Date \n",
      "1     ######## \n",
      "2     ######## \n",
      "3     ######## \n",
      "4     ######## \n",
      "...         ...\n",
      "1509   18723.1 \n",
      "1510    4274.9 \n",
      "1511   45805.7 \n",
      "1512   35566.3 \n",
      "1513     46703 \n",
      "\n",
      "[1514 rows x 1 columns]\n"
     ]
    }
   ],
   "source": [
    "import pdfquery\n",
    "pdf = pdfquery.PDFQuery(r'Groceries_Sales_data.pdf')\n",
    "pdf.load()\n",
    "text_elements = pdf.pq('LTTextLineHorizontal')\n",
    "text = [t.text for t in text_elements]\n",
    "df = pd.DataFrame(text, columns=['Text'])\n",
    "print(df)\n"
   ]
  },
  {
   "cell_type": "code",
   "execution_count": 5,
   "metadata": {},
   "outputs": [
    {
     "name": "stdout",
     "output_type": "stream",
     "text": [
      "Note: you may need to restart the kernel to use updated packages.Collecting pdfquery\n",
      "  Downloading pdfquery-0.4.3.tar.gz (17 kB)\n",
      "  Installing build dependencies: started\n",
      "  Installing build dependencies: finished with status 'done'\n",
      "  Getting requirements to build wheel: started\n",
      "  Getting requirements to build wheel: finished with status 'done'\n",
      "  Preparing metadata (pyproject.toml): started\n",
      "  Preparing metadata (pyproject.toml): finished with status 'done'\n",
      "Collecting cssselect>=0.7.1 (from pdfquery)\n",
      "  Downloading cssselect-1.2.0-py2.py3-none-any.whl (18 kB)\n",
      "Collecting chardet (from pdfquery)\n",
      "  Obtaining dependency information for chardet from https://files.pythonhosted.org/packages/38/6f/f5fbc992a329ee4e0f288c1fe0e2ad9485ed064cac731ed2fe47dcc38cbf/chardet-5.2.0-py3-none-any.whl.metadata\n",
      "  Downloading chardet-5.2.0-py3-none-any.whl.metadata (3.4 kB)\n",
      "Collecting lxml>=3.0 (from pdfquery)\n",
      "  Obtaining dependency information for lxml>=3.0 from https://files.pythonhosted.org/packages/5b/d6/e794d996dec76b773691af78390fe2f419ab7cb5b78a4df982e21ae655b7/lxml-5.1.0-cp311-cp311-win_amd64.whl.metadata\n",
      "  Downloading lxml-5.1.0-cp311-cp311-win_amd64.whl.metadata (3.6 kB)\n",
      "Collecting pdfminer.six (from pdfquery)\n",
      "  Obtaining dependency information for pdfminer.six from https://files.pythonhosted.org/packages/eb/9c/e46fe7502b32d7db6af6e36a9105abb93301fa1ec475b5ddcba8b35ae23a/pdfminer.six-20231228-py3-none-any.whl.metadata\n",
      "  Downloading pdfminer.six-20231228-py3-none-any.whl.metadata (4.2 kB)\n",
      "Collecting pyquery>=1.2.2 (from pdfquery)\n",
      "  Downloading pyquery-2.0.0-py3-none-any.whl (22 kB)\n",
      "Collecting roman>=1.4.0 (from pdfquery)\n",
      "  Obtaining dependency information for roman>=1.4.0 from https://files.pythonhosted.org/packages/b3/e7/533d5082852a3e0001392b421172d1659a8dc81dad9c41d378adf891d689/roman-4.1-py3-none-any.whl.metadata\n",
      "  Downloading roman-4.1-py3-none-any.whl.metadata (3.3 kB)\n",
      "Collecting charset-normalizer>=2.0.0 (from pdfminer.six->pdfquery)\n",
      "  Obtaining dependency information for charset-normalizer>=2.0.0 from https://files.pythonhosted.org/packages/57/ec/80c8d48ac8b1741d5b963797b7c0c869335619e13d4744ca2f67fc11c6fc/charset_normalizer-3.3.2-cp311-cp311-win_amd64.whl.metadata\n",
      "  Downloading charset_normalizer-3.3.2-cp311-cp311-win_amd64.whl.metadata (34 kB)\n",
      "Collecting cryptography>=36.0.0 (from pdfminer.six->pdfquery)\n",
      "  Obtaining dependency information for cryptography>=36.0.0 from https://files.pythonhosted.org/packages/f6/23/b28f4a03650512efff13a8fcbb977bac178a765c5a887a6720bee13fa85b/cryptography-41.0.7-cp37-abi3-win_amd64.whl.metadata\n",
      "  Downloading cryptography-41.0.7-cp37-abi3-win_amd64.whl.metadata (5.3 kB)\n",
      "Collecting cffi>=1.12 (from cryptography>=36.0.0->pdfminer.six->pdfquery)\n",
      "  Obtaining dependency information for cffi>=1.12 from https://files.pythonhosted.org/packages/5a/c7/694814b3757878b29da39bc2f0cf9d20295f4c1e0a0bde7971708d5f23f8/cffi-1.16.0-cp311-cp311-win_amd64.whl.metadata\n",
      "  Downloading cffi-1.16.0-cp311-cp311-win_amd64.whl.metadata (1.5 kB)\n",
      "Collecting pycparser (from cffi>=1.12->cryptography>=36.0.0->pdfminer.six->pdfquery)\n",
      "  Downloading pycparser-2.21-py2.py3-none-any.whl (118 kB)\n",
      "     ---------------------------------------- 0.0/118.7 kB ? eta -:--:--\n",
      "     --- ------------------------------------ 10.2/118.7 kB ? eta -:--:--\n",
      "     --- ------------------------------------ 10.2/118.7 kB ? eta -:--:--\n",
      "     ------------ ------------------------ 41.0/118.7 kB 281.8 kB/s eta 0:00:01\n",
      "     ------------ ------------------------ 41.0/118.7 kB 281.8 kB/s eta 0:00:01\n",
      "     ------------------- ----------------- 61.4/118.7 kB 273.8 kB/s eta 0:00:01\n",
      "     ------------------------- ----------- 81.9/118.7 kB 306.3 kB/s eta 0:00:01\n",
      "     ------------------------- ----------- 81.9/118.7 kB 306.3 kB/s eta 0:00:01\n",
      "     ------------------------------------ 118.7/118.7 kB 330.7 kB/s eta 0:00:00\n",
      "Downloading lxml-5.1.0-cp311-cp311-win_amd64.whl (3.9 MB)\n",
      "   ---------------------------------------- 0.0/3.9 MB ? eta -:--:--\n",
      "   ---------------------------------------- 0.0/3.9 MB 1.3 MB/s eta 0:00:04\n",
      "   ---------------------------------------- 0.0/3.9 MB 1.3 MB/s eta 0:00:04\n",
      "    --------------------------------------- 0.1/3.9 MB 544.7 kB/s eta 0:00:08\n",
      "    --------------------------------------- 0.1/3.9 MB 651.6 kB/s eta 0:00:06\n",
      "   - -------------------------------------- 0.1/3.9 MB 502.0 kB/s eta 0:00:08\n",
      "   - -------------------------------------- 0.1/3.9 MB 607.9 kB/s eta 0:00:07\n",
      "   -- ------------------------------------- 0.2/3.9 MB 689.9 kB/s eta 0:00:06\n",
      "   -- ------------------------------------- 0.3/3.9 MB 778.1 kB/s eta 0:00:05\n",
      "   --- ------------------------------------ 0.3/3.9 MB 853.3 kB/s eta 0:00:05\n",
      "   --- ------------------------------------ 0.4/3.9 MB 905.7 kB/s eta 0:00:04\n",
      "   ---- ----------------------------------- 0.5/3.9 MB 1.0 MB/s eta 0:00:04\n",
      "   ----- ---------------------------------- 0.5/3.9 MB 992.3 kB/s eta 0:00:04\n",
      "   ------ --------------------------------- 0.6/3.9 MB 1.1 MB/s eta 0:00:03\n",
      "   ------ --------------------------------- 0.6/3.9 MB 1.1 MB/s eta 0:00:03\n",
      "   ------- -------------------------------- 0.7/3.9 MB 1.1 MB/s eta 0:00:03\n",
      "   ------- -------------------------------- 0.8/3.9 MB 1.2 MB/s eta 0:00:03\n",
      "   -------- ------------------------------- 0.8/3.9 MB 1.2 MB/s eta 0:00:03\n",
      "   --------- ------------------------------ 1.0/3.9 MB 1.3 MB/s eta 0:00:03\n",
      "   --------- ------------------------------ 1.0/3.9 MB 1.3 MB/s eta 0:00:03\n",
      "   ---------- ----------------------------- 1.1/3.9 MB 1.3 MB/s eta 0:00:03\n",
      "   ----------- ---------------------------- 1.2/3.9 MB 1.3 MB/s eta 0:00:03\n",
      "   ------------ --------------------------- 1.2/3.9 MB 1.4 MB/s eta 0:00:02\n",
      "   ------------- -------------------------- 1.3/3.9 MB 1.4 MB/s eta 0:00:02\n",
      "   ------------- -------------------------- 1.4/3.9 MB 1.4 MB/s eta 0:00:02\n",
      "   -------------- ------------------------- 1.4/3.9 MB 1.4 MB/s eta 0:00:02\n",
      "   --------------- ------------------------ 1.5/3.9 MB 1.4 MB/s eta 0:00:02\n",
      "   ---------------- ----------------------- 1.6/3.9 MB 1.5 MB/s eta 0:00:02\n",
      "   ---------------- ----------------------- 1.6/3.9 MB 1.5 MB/s eta 0:00:02\n",
      "   ---------------- ----------------------- 1.6/3.9 MB 1.5 MB/s eta 0:00:02\n",
      "   ---------------- ----------------------- 1.6/3.9 MB 1.5 MB/s eta 0:00:02\n",
      "   ----------------- ---------------------- 1.7/3.9 MB 1.4 MB/s eta 0:00:02\n",
      "   ------------------ --------------------- 1.8/3.9 MB 1.4 MB/s eta 0:00:02\n",
      "   --------------------- ------------------ 2.1/3.9 MB 1.5 MB/s eta 0:00:02\n",
      "   ---------------------- ----------------- 2.2/3.9 MB 1.6 MB/s eta 0:00:02\n",
      "   -------------------------- ------------- 2.6/3.9 MB 1.8 MB/s eta 0:00:01\n",
      "   --------------------------- ------------ 2.6/3.9 MB 1.8 MB/s eta 0:00:01\n",
      "   ------------------------------ --------- 2.9/3.9 MB 1.9 MB/s eta 0:00:01\n",
      "   -------------------------------- ------- 3.2/3.9 MB 2.1 MB/s eta 0:00:01\n",
      "   -------------------------------- ------- 3.2/3.9 MB 2.0 MB/s eta 0:00:01\n",
      "   --------------------------------- ------ 3.2/3.9 MB 2.0 MB/s eta 0:00:01\n",
      "   ---------------------------------- ----- 3.3/3.9 MB 2.0 MB/s eta 0:00:01\n",
      "   ------------------------------------ --- 3.6/3.9 MB 2.0 MB/s eta 0:00:01\n",
      "   ------------------------------------ --- 3.6/3.9 MB 2.0 MB/s eta 0:00:01\n",
      "   ------------------------------------- -- 3.7/3.9 MB 2.0 MB/s eta 0:00:01\n",
      "   ---------------------------------------  3.9/3.9 MB 2.1 MB/s eta 0:00:01\n",
      "   ---------------------------------------- 3.9/3.9 MB 2.1 MB/s eta 0:00:00\n",
      "Downloading roman-4.1-py3-none-any.whl (5.5 kB)\n",
      "Downloading chardet-5.2.0-py3-none-any.whl (199 kB)\n",
      "   ---------------------------------------- 0.0/199.4 kB ? eta -:--:--\n",
      "   ---------------------- ----------------- 112.6/199.4 kB 6.4 MB/s eta 0:00:01\n",
      "   ---------------------------------------- 199.4/199.4 kB 2.4 MB/s eta 0:00:00\n",
      "Downloading pdfminer.six-20231228-py3-none-any.whl (5.6 MB)\n",
      "   ---------------------------------------- 0.0/5.6 MB ? eta -:--:--\n",
      "   - -------------------------------------- 0.2/5.6 MB 4.6 MB/s eta 0:00:02\n",
      "   - -------------------------------------- 0.2/5.6 MB 4.2 MB/s eta 0:00:02\n",
      "   --- ------------------------------------ 0.5/5.6 MB 3.9 MB/s eta 0:00:02\n",
      "   ---- ----------------------------------- 0.6/5.6 MB 4.5 MB/s eta 0:00:02\n",
      "   ----- ---------------------------------- 0.8/5.6 MB 3.8 MB/s eta 0:00:02\n",
      "   -------- ------------------------------- 1.1/5.6 MB 4.5 MB/s eta 0:00:01\n",
      "   --------- ------------------------------ 1.3/5.6 MB 4.5 MB/s eta 0:00:01\n",
      "   ---------- ----------------------------- 1.5/5.6 MB 4.5 MB/s eta 0:00:01\n",
      "   ----------- ---------------------------- 1.7/5.6 MB 4.4 MB/s eta 0:00:01\n",
      "   -------------- ------------------------- 2.0/5.6 MB 4.7 MB/s eta 0:00:01\n",
      "   --------------- ------------------------ 2.1/5.6 MB 4.7 MB/s eta 0:00:01\n",
      "   --------------- ------------------------ 2.2/5.6 MB 4.4 MB/s eta 0:00:01\n",
      "   ------------------- -------------------- 2.8/5.6 MB 5.1 MB/s eta 0:00:01\n",
      "   --------------------- ------------------ 3.1/5.6 MB 5.0 MB/s eta 0:00:01\n",
      "   ----------------------- ---------------- 3.3/5.6 MB 5.3 MB/s eta 0:00:01\n",
      "   ------------------------ --------------- 3.4/5.6 MB 5.2 MB/s eta 0:00:01\n",
      "   ------------------------- -------------- 3.6/5.6 MB 5.0 MB/s eta 0:00:01\n",
      "   -------------------------- ------------- 3.8/5.6 MB 4.9 MB/s eta 0:00:01\n",
      "   --------------------------- ------------ 3.9/5.6 MB 4.8 MB/s eta 0:00:01\n",
      "   ----------------------------- ---------- 4.2/5.6 MB 4.8 MB/s eta 0:00:01\n",
      "   ------------------------------ --------- 4.3/5.6 MB 4.9 MB/s eta 0:00:01\n",
      "   ------------------------------- -------- 4.4/5.6 MB 4.7 MB/s eta 0:00:01\n",
      "   ------------------------------- -------- 4.5/5.6 MB 4.7 MB/s eta 0:00:01\n",
      "   ---------------------------------- ----- 4.8/5.6 MB 4.6 MB/s eta 0:00:01\n",
      "   ----------------------------------- ---- 5.0/5.6 MB 4.6 MB/s eta 0:00:01\n",
      "   ------------------------------------ --- 5.1/5.6 MB 4.5 MB/s eta 0:00:01\n",
      "   -------------------------------------- - 5.4/5.6 MB 4.6 MB/s eta 0:00:01\n",
      "   ---------------------------------------  5.5/5.6 MB 4.5 MB/s eta 0:00:01\n",
      "   ---------------------------------------- 5.6/5.6 MB 4.5 MB/s eta 0:00:00\n",
      "Downloading charset_normalizer-3.3.2-cp311-cp311-win_amd64.whl (99 kB)\n",
      "   ---------------------------------------- 0.0/99.9 kB ? eta -:--:--\n",
      "   ---------------- ----------------------- 41.0/99.9 kB ? eta -:--:--\n",
      "   -------------------------------- ------- 81.9/99.9 kB 1.5 MB/s eta 0:00:01\n",
      "   ---------------------------------------- 99.9/99.9 kB 953.5 kB/s eta 0:00:00\n",
      "Downloading cryptography-41.0.7-cp37-abi3-win_amd64.whl (2.7 MB)\n",
      "   ---------------------------------------- 0.0/2.7 MB ? eta -:--:--\n",
      "   ---- ----------------------------------- 0.3/2.7 MB 9.6 MB/s eta 0:00:01\n",
      "   ------- -------------------------------- 0.5/2.7 MB 7.3 MB/s eta 0:00:01\n",
      "   ---------- ----------------------------- 0.7/2.7 MB 5.3 MB/s eta 0:00:01\n",
      "   ---------------- ----------------------- 1.1/2.7 MB 6.5 MB/s eta 0:00:01\n",
      "   ------------------ --------------------- 1.2/2.7 MB 5.6 MB/s eta 0:00:01\n",
      "   ----------------------- ---------------- 1.6/2.7 MB 6.2 MB/s eta 0:00:01\n",
      "   ------------------------- -------------- 1.7/2.7 MB 5.5 MB/s eta 0:00:01\n",
      "   --------------------------- ------------ 1.8/2.7 MB 5.3 MB/s eta 0:00:01\n",
      "   --------------------------- ------------ 1.8/2.7 MB 5.3 MB/s eta 0:00:01\n",
      "   --------------------------- ------------ 1.8/2.7 MB 5.3 MB/s eta 0:00:01\n",
      "   ---------------------------- ----------- 1.9/2.7 MB 4.2 MB/s eta 0:00:01\n",
      "   ---------------------------- ----------- 1.9/2.7 MB 4.2 MB/s eta 0:00:01\n",
      "   -------------------------------- ------- 2.2/2.7 MB 4.0 MB/s eta 0:00:01\n",
      "   -------------------------------- ------- 2.2/2.7 MB 4.0 MB/s eta 0:00:01\n",
      "   --------------------------------- ------ 2.3/2.7 MB 3.7 MB/s eta 0:00:01\n",
      "   ---------------------------------- ----- 2.3/2.7 MB 3.5 MB/s eta 0:00:01\n",
      "   ----------------------------------- ---- 2.4/2.7 MB 3.3 MB/s eta 0:00:01\n",
      "   ---------------------------------------- 2.7/2.7 MB 3.4 MB/s eta 0:00:00\n",
      "Downloading cffi-1.16.0-cp311-cp311-win_amd64.whl (181 kB)\n",
      "   ---------------------------------------- 0.0/181.5 kB ? eta -:--:--\n",
      "   ------------------------------------ --- 163.8/181.5 kB 5.0 MB/s eta 0:00:01\n",
      "   ---------------------------------------- 181.5/181.5 kB 2.8 MB/s eta 0:00:00\n",
      "Building wheels for collected packages: pdfquery\n",
      "  Building wheel for pdfquery (pyproject.toml): started\n",
      "  Building wheel for pdfquery (pyproject.toml): finished with status 'done'\n",
      "  Created wheel for pdfquery: filename=pdfquery-0.4.3-py3-none-any.whl size=16840 sha256=5916149568e81d1585ca3eb0c100a259a1590ea000b2c93ee9386d90104a3aa3\n",
      "  Stored in directory: c:\\users\\guru charan\\appdata\\local\\pip\\cache\\wheels\\e9\\77\\37\\37dbae6c77b30bdfbd1a040ba7e964e6db7c223405f4fadfcb\n",
      "Successfully built pdfquery\n",
      "Installing collected packages: roman, pycparser, lxml, cssselect, charset-normalizer, chardet, pyquery, cffi, cryptography, pdfminer.six, pdfquery\n",
      "Successfully installed cffi-1.16.0 chardet-5.2.0 charset-normalizer-3.3.2 cryptography-41.0.7 cssselect-1.2.0 lxml-5.1.0 pdfminer.six-20231228 pdfquery-0.4.3 pycparser-2.21 pyquery-2.0.0 roman-4.1\n",
      "\n"
     ]
    },
    {
     "name": "stderr",
     "output_type": "stream",
     "text": [
      "  WARNING: The script roman.exe is installed in 'c:\\Users\\GURU CHARAN\\AppData\\Local\\Programs\\Python\\Python311\\Scripts' which is not on PATH.\n",
      "  Consider adding this directory to PATH or, if you prefer to suppress this warning, use --no-warn-script-location.\n",
      "  WARNING: The script normalizer.exe is installed in 'c:\\Users\\GURU CHARAN\\AppData\\Local\\Programs\\Python\\Python311\\Scripts' which is not on PATH.\n",
      "  Consider adding this directory to PATH or, if you prefer to suppress this warning, use --no-warn-script-location.\n",
      "  WARNING: The script chardetect.exe is installed in 'c:\\Users\\GURU CHARAN\\AppData\\Local\\Programs\\Python\\Python311\\Scripts' which is not on PATH.\n",
      "  Consider adding this directory to PATH or, if you prefer to suppress this warning, use --no-warn-script-location.\n",
      "\n",
      "[notice] A new release of pip is available: 23.2.1 -> 23.3.2\n",
      "[notice] To update, run: python.exe -m pip install --upgrade pip\n"
     ]
    }
   ],
   "source": [
    "pip install pdfquery"
   ]
  },
  {
   "cell_type": "code",
   "execution_count": null,
   "metadata": {},
   "outputs": [],
   "source": []
  }
 ],
 "metadata": {
  "kernelspec": {
   "display_name": "Python 3",
   "language": "python",
   "name": "python3"
  },
  "language_info": {
   "codemirror_mode": {
    "name": "ipython",
    "version": 3
   },
   "file_extension": ".py",
   "mimetype": "text/x-python",
   "name": "python",
   "nbconvert_exporter": "python",
   "pygments_lexer": "ipython3",
   "version": "3.11.5"
  }
 },
 "nbformat": 4,
 "nbformat_minor": 2
}
