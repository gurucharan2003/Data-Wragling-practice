{
 "cells": [
  {
   "cell_type": "code",
   "execution_count": 1,
   "id": "7df64c86",
   "metadata": {},
   "outputs": [
    {
     "name": "stdout",
     "output_type": "stream",
     "text": [
      "   id   name  age         occupation  salary\n",
      "0   1  Alice   25  Software Engineer  100000\n",
      "1   2    Bob   30     Data Scientist  120000\n"
     ]
    }
   ],
   "source": [
    "import pandas as pd\n",
    "data1 = {'id': [1, 2, 3], 'name': ['Alice', 'Bob', 'Carol'], 'age': [25, 30, 35]}\n",
    "data2 = {'id': [1, 2, 4], 'occupation': ['Software Engineer', 'Data Scientist', 'Manager'], 'salary': [100000, 120000, 150000]}\n",
    "df1=pd.DataFrame(data1)\n",
    "df2=pd.DataFrame(data2)\n",
    "merged_df_inner=pd.merge(df1, df2, on='id', how='inner')\n",
    "print(merged_df_inner)"
   ]
  },
  {
   "cell_type": "code",
   "execution_count": 2,
   "id": "76263112",
   "metadata": {},
   "outputs": [
    {
     "name": "stdout",
     "output_type": "stream",
     "text": [
      "   id   name   age         occupation    salary\n",
      "0   1  Alice  25.0  Software Engineer  100000.0\n",
      "1   2    Bob  30.0     Data Scientist  120000.0\n",
      "2   3  Carol  35.0                NaN       NaN\n",
      "3   4    NaN   NaN            Manager  150000.0\n"
     ]
    }
   ],
   "source": [
    "import pandas as pd\n",
    "data1 = {'id': [1, 2, 3], 'name': ['Alice', 'Bob', 'Carol'], 'age': [25, 30, 35]}\n",
    "data2 = {'id': [1, 2, 4], 'occupation': ['Software Engineer', 'Data Scientist', 'Manager'], 'salary': [100000, 120000, 150000]}\n",
    "df1=pd.DataFrame(data1)\n",
    "df2=pd.DataFrame(data2)\n",
    "merged_df_outer=pd.merge(df1, df2, on='id', how='outer')\n",
    "print(merged_df_outer)"
   ]
  },
  {
   "cell_type": "code",
   "execution_count": 3,
   "id": "7bcf136b",
   "metadata": {},
   "outputs": [
    {
     "name": "stdout",
     "output_type": "stream",
     "text": [
      "   id   name  age         occupation    salary\n",
      "0   1  Alice   25  Software Engineer  100000.0\n",
      "1   2    Bob   30     Data Scientist  120000.0\n",
      "2   3  Carol   35                NaN       NaN\n"
     ]
    }
   ],
   "source": [
    "import pandas as pd\n",
    "data1 = {'id': [1, 2, 3], 'name': ['Alice', 'Bob', 'Carol'], 'age': [25, 30, 35]}\n",
    "data2 = {'id': [1, 2, 4], 'name': ['Alice', 'Bob', 'Carol'], 'occupation': ['Software Engineer', 'Data Scientist', 'Manager'], 'salary': [100000, 120000, 150000]}\n",
    "df1=pd.DataFrame(data1)\n",
    "df2=pd.DataFrame(data2)\n",
    "merged_df_left=pd.merge(df1, df2, on=['id','name'], how='left')\n",
    "print(merged_df_left)\n"
   ]
  },
  {
   "cell_type": "code",
   "execution_count": 4,
   "id": "dde18ba3",
   "metadata": {},
   "outputs": [
    {
     "name": "stdout",
     "output_type": "stream",
     "text": [
      "   id   name         occupation   age  salary\n",
      "0   1  Alice  Software Engineer  25.0  100000\n",
      "1   2    Bob     Data Scientist  30.0  120000\n",
      "2   4    NaN            Manager   NaN  150000\n"
     ]
    }
   ],
   "source": [
    "import pandas as pd\n",
    "data1 = {'id': [1, 2, 3], 'name': ['Alice', 'Bob', 'Carol'], 'occupation': ['Software Engineer', 'Data Scientist',''], 'age': [25, 30, 35]}\n",
    "data2 = {'id': [1, 2, 4], 'occupation': ['Software Engineer', 'Data Scientist', 'Manager'], 'salary': [100000, 120000, 150000]}\n",
    "df1 = pd.DataFrame(data1)\n",
    "df2 = pd.DataFrame(data2)\n",
    "merged_df_right = pd.merge(df1, df2, on=['id', 'occupation'], how='right')\n",
    "print(merged_df_right)"
   ]
  },
  {
   "cell_type": "code",
   "execution_count": 5,
   "id": "d61bab2d",
   "metadata": {},
   "outputs": [
    {
     "name": "stdout",
     "output_type": "stream",
     "text": [
      "Original Dataset:\n",
      "                                          name date_of_event   age  \\\n",
      "0  'Abd a-Rahman Suleiman Muhammad Abu Daghash    2023-09-24  32.0   \n",
      "1         Usayed Farhan Muhammad 'Ali Abu 'Ali    2023-09-24  21.0   \n",
      "2             'Abdallah 'Imad Sa'ed Abu Hassan    2023-09-22  16.0   \n",
      "3             Durgham Muhammad Yihya al-Akhras    2023-09-20  19.0   \n",
      "4                 Raafat 'Omar Ahmad Khamaisah    2023-09-19  15.0   \n",
      "\n",
      "   citizenship     event_location event_location_district  \\\n",
      "0  Palestinian     Nur Shams R.C.                 Tulkarm   \n",
      "1  Palestinian     Nur Shams R.C.                 Tulkarm   \n",
      "2  Palestinian           Kfar Dan                   Jenin   \n",
      "3  Palestinian  'Aqbat Jaber R.C.                 Jericho   \n",
      "4  Palestinian         Jenin R.C.                   Jenin   \n",
      "\n",
      "  event_location_region date_of_death gender took_part_in_the_hostilities  \\\n",
      "0             West Bank    2023-09-24      M                          NaN   \n",
      "1             West Bank    2023-09-24      M                          NaN   \n",
      "2             West Bank    2023-09-22      M                          NaN   \n",
      "3             West Bank    2023-09-20      M                          NaN   \n",
      "4             West Bank    2023-09-19      M                          NaN   \n",
      "\n",
      "  place_of_residence place_of_residence_district type_of_injury  \\\n",
      "0     Nur Shams R.C.                     Tulkarm        gunfire   \n",
      "1     Nur Shams R.C.                     Tulkarm        gunfire   \n",
      "2           al-Yamun                       Jenin        gunfire   \n",
      "3  'Aqbat Jaber R.C.                     Jericho        gunfire   \n",
      "4              Jenin                       Jenin        gunfire   \n",
      "\n",
      "        ammunition                killed_by  \\\n",
      "0  live ammunition  Israeli security forces   \n",
      "1  live ammunition  Israeli security forces   \n",
      "2  live ammunition  Israeli security forces   \n",
      "3  live ammunition  Israeli security forces   \n",
      "4  live ammunition  Israeli security forces   \n",
      "\n",
      "                                               notes  \n",
      "0  Fatally shot by Israeli forces while standing ...  \n",
      "1  Fatally shot by Israeli forces while trying to...  \n",
      "2  Fatally shot by soldiers while firing at them ...  \n",
      "3  Shot in the head by Israeli forces while throw...  \n",
      "4  Wounded by soldiers’ gunfire after running awa...  \n",
      "\n",
      "Reshaped Dataset:\n",
      "citizenship American                                            Israeli  \\\n",
      "age                                                                       \n",
      "1.0                0  2011-09-232003-10-042003-08-192002-05-272002-0...   \n",
      "2.0                0                     2004-09-292004-05-022001-08-09   \n",
      "3.0                0                     2004-08-312003-08-192002-03-02   \n",
      "4.0                0  2014-08-222011-03-112004-09-292004-06-282003-1...   \n",
      "5.0                0  2021-05-122002-11-102002-06-202002-06-192002-0...   \n",
      "...              ...                                                ...   \n",
      "91.0               0                                                  0   \n",
      "92.0               0                                                  0   \n",
      "94.0               0                                                  0   \n",
      "101.0              0                                                  0   \n",
      "112.0              0                                                  0   \n",
      "\n",
      "citizenship Jordanian                                        Palestinian  \n",
      "age                                                                       \n",
      "1.0                 0  2019-11-142018-08-092015-07-312014-08-242014-0...  \n",
      "2.0                 0  2023-06-012021-05-162021-05-132021-05-132021-0...  \n",
      "3.0                 0  2022-08-072021-05-162015-10-112014-08-222014-0...  \n",
      "4.0                 0  2023-05-092021-05-162021-05-132021-05-122018-1...  \n",
      "5.0                 0  2022-08-052021-05-162021-05-162021-05-152021-0...  \n",
      "...               ...                                                ...  \n",
      "91.0                0                                         2010-09-12  \n",
      "92.0                0                                         2014-08-03  \n",
      "94.0                0                               2014-08-012002-12-03  \n",
      "101.0               0                                         2008-12-27  \n",
      "112.0               0                                         2014-07-29  \n",
      "\n",
      "[95 rows x 4 columns]\n"
     ]
    }
   ],
   "source": [
    "import pandas as pd\n",
    "\n",
    "# Load the dataset\n",
    "file_path = \"fatalities_isr_pse_conflict_2000_to_2023.csv\"\n",
    "df = pd.read_csv(file_path)\n",
    "\n",
    "# Display the original dataset\n",
    "print(\"Original Dataset:\")\n",
    "print(df.head())\n",
    "\n",
    "# Pivot the data\n",
    "pivot_table = df.pivot_table(index='age', columns='citizenship', values='date_of_event', aggfunc='sum', fill_value=0)\n",
    "\n",
    "# Display the reshaped dataset\n",
    "print(\"\\nReshaped Dataset:\")\n",
    "print(pivot_table)\n"
   ]
  },
  {
   "cell_type": "code",
   "execution_count": 6,
   "id": "7c2f9da4",
   "metadata": {},
   "outputs": [
    {
     "name": "stdout",
     "output_type": "stream",
     "text": [
      "Original Dataset:\n",
      "                                          name date_of_event   age  \\\n",
      "0  'Abd a-Rahman Suleiman Muhammad Abu Daghash    2023-09-24  32.0   \n",
      "1         Usayed Farhan Muhammad 'Ali Abu 'Ali    2023-09-24  21.0   \n",
      "2             'Abdallah 'Imad Sa'ed Abu Hassan    2023-09-22  16.0   \n",
      "3             Durgham Muhammad Yihya al-Akhras    2023-09-20  19.0   \n",
      "4                 Raafat 'Omar Ahmad Khamaisah    2023-09-19  15.0   \n",
      "\n",
      "   citizenship     event_location event_location_district  \\\n",
      "0  Palestinian     Nur Shams R.C.                 Tulkarm   \n",
      "1  Palestinian     Nur Shams R.C.                 Tulkarm   \n",
      "2  Palestinian           Kfar Dan                   Jenin   \n",
      "3  Palestinian  'Aqbat Jaber R.C.                 Jericho   \n",
      "4  Palestinian         Jenin R.C.                   Jenin   \n",
      "\n",
      "  event_location_region date_of_death gender took_part_in_the_hostilities  \\\n",
      "0             West Bank    2023-09-24      M                          NaN   \n",
      "1             West Bank    2023-09-24      M                          NaN   \n",
      "2             West Bank    2023-09-22      M                          NaN   \n",
      "3             West Bank    2023-09-20      M                          NaN   \n",
      "4             West Bank    2023-09-19      M                          NaN   \n",
      "\n",
      "  place_of_residence place_of_residence_district type_of_injury  \\\n",
      "0     Nur Shams R.C.                     Tulkarm        gunfire   \n",
      "1     Nur Shams R.C.                     Tulkarm        gunfire   \n",
      "2           al-Yamun                       Jenin        gunfire   \n",
      "3  'Aqbat Jaber R.C.                     Jericho        gunfire   \n",
      "4              Jenin                       Jenin        gunfire   \n",
      "\n",
      "        ammunition                killed_by  \\\n",
      "0  live ammunition  Israeli security forces   \n",
      "1  live ammunition  Israeli security forces   \n",
      "2  live ammunition  Israeli security forces   \n",
      "3  live ammunition  Israeli security forces   \n",
      "4  live ammunition  Israeli security forces   \n",
      "\n",
      "                                               notes  \n",
      "0  Fatally shot by Israeli forces while standing ...  \n",
      "1  Fatally shot by Israeli forces while trying to...  \n",
      "2  Fatally shot by soldiers while firing at them ...  \n",
      "3  Shot in the head by Israeli forces while throw...  \n",
      "4  Wounded by soldiers’ gunfire after running awa...  \n",
      "\n",
      "Stacked Dataset:\n",
      "    age Variable                                        Value\n",
      "0  32.0     name  'Abd a-Rahman Suleiman Muhammad Abu Daghash\n",
      "1  21.0     name         Usayed Farhan Muhammad 'Ali Abu 'Ali\n",
      "2  16.0     name             'Abdallah 'Imad Sa'ed Abu Hassan\n",
      "3  19.0     name             Durgham Muhammad Yihya al-Akhras\n",
      "4  15.0     name                 Raafat 'Omar Ahmad Khamaisah\n"
     ]
    }
   ],
   "source": [
    "import pandas as pd\n",
    "\n",
    "# Assuming you have already loaded the dataset\n",
    "df = pd.read_csv(\"fatalities_isr_pse_conflict_2000_to_2023.csv\")\n",
    "\n",
    "# Display the original dataset\n",
    "print(\"Original Dataset:\")\n",
    "print(df.head())\n",
    "\n",
    "# Stack or melt the DataFrame\n",
    "melted_df = pd.melt(df, id_vars=['age'], value_vars=['name'], var_name='Variable', value_name='Value')\n",
    "\n",
    "# Display the stacked dataset\n",
    "print(\"\\nStacked Dataset:\")\n",
    "print(melted_df.head())\n"
   ]
  },
  {
   "cell_type": "code",
   "execution_count": null,
   "id": "be3913cb",
   "metadata": {},
   "outputs": [],
   "source": []
  }
 ],
 "metadata": {
  "kernelspec": {
   "display_name": "Python 3 (ipykernel)",
   "language": "python",
   "name": "python3"
  },
  "language_info": {
   "codemirror_mode": {
    "name": "ipython",
    "version": 3
   },
   "file_extension": ".py",
   "mimetype": "text/x-python",
   "name": "python",
   "nbconvert_exporter": "python",
   "pygments_lexer": "ipython3",
   "version": "3.11.4"
  }
 },
 "nbformat": 4,
 "nbformat_minor": 5
}
