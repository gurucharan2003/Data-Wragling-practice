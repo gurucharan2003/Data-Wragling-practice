{
 "cells": [
  {
   "cell_type": "code",
   "execution_count": null,
   "id": "91b6303b",
   "metadata": {},
   "outputs": [],
   "source": [
    "# 8 WEEK"
   ]
  },
  {
   "cell_type": "code",
   "execution_count": null,
   "id": "6550ea03",
   "metadata": {},
   "outputs": [],
   "source": [
    "#8.1 Time series data preparation"
   ]
  },
  {
   "cell_type": "code",
   "execution_count": 3,
   "id": "bc7fdbd9",
   "metadata": {},
   "outputs": [
    {
     "name": "stdout",
     "output_type": "stream",
     "text": [
      "            Date Daily minimum temperatures\n",
      "0       1/1/1981                       20.7\n",
      "1       1/2/1981                       17.9\n",
      "2       1/3/1981                       18.8\n",
      "3       1/4/1981                       14.6\n",
      "4       1/5/1981                       15.8\n",
      "...          ...                        ...\n",
      "3645  12/27/1990                         14\n",
      "3646  12/28/1990                       13.6\n",
      "3647  12/29/1990                       13.5\n",
      "3648  12/30/1990                       15.7\n",
      "3649  12/31/1990                         13\n",
      "\n",
      "[3650 rows x 2 columns]\n"
     ]
    }
   ],
   "source": [
    "# 1. program to load a time series dataset daily-minimum-temperatures-in-me.csv\n",
    "import pandas as pd\n",
    "path=\"C:\\\\Users\\\\sai raj\\\\OneDrive\\\\Desktop\\\\Week8\\\\daily-minimum-temperatures-in-me.csv\"\n",
    "df=pd.read_csv(path)\n",
    "print(df)"
   ]
  },
  {
   "cell_type": "code",
   "execution_count": 4,
   "id": "cdaf4ad9",
   "metadata": {},
   "outputs": [
    {
     "name": "stdout",
     "output_type": "stream",
     "text": [
      "Original DataFrame:\n",
      "       Date Daily minimum temperatures\n",
      "0  1/1/1981                       20.7\n",
      "1  1/2/1981                       17.9\n",
      "2  1/3/1981                       18.8\n",
      "3  1/4/1981                       14.6\n",
      "4  1/5/1981                       15.8\n",
      "\n",
      "DataFrame after preprocessing:\n",
      "           Daily minimum temperatures\n",
      "Date                                 \n",
      "1981-01-01                       20.7\n",
      "1981-01-02                       17.9\n",
      "1981-01-03                       18.8\n",
      "1981-01-04                       14.6\n",
      "1981-01-05                       15.8\n"
     ]
    }
   ],
   "source": [
    "#2. Program to Preprocess the data by setting the datetime column as the index and ensuring that it's in the correct datetime format.\n",
    "\n",
    "import pandas as pd\n",
    "path=\"C:\\\\Users\\\\sai raj\\\\OneDrive\\\\Desktop\\\\Week8\\\\daily-minimum-temperatures-in-me.csv\"\n",
    "df = pd.read_csv(path)\n",
    "print(\"Original DataFrame:\")\n",
    "print(df.head())\n",
    "df['Date'] = pd.to_datetime(df['Date'])\n",
    "df.set_index('Date', inplace=True)\n",
    "print(\"\\nDataFrame after preprocessing:\")\n",
    "print(df.head())"
   ]
  },
  {
   "cell_type": "code",
   "execution_count": 5,
   "id": "2c05c3dc",
   "metadata": {},
   "outputs": [
    {
     "name": "stdout",
     "output_type": "stream",
     "text": [
      "                     Value\n",
      "Timestamp                 \n",
      "2022-01-01 08:00:00     10\n",
      "2022-01-01 10:30:00     15\n",
      "2022-01-02 09:15:00     20\n",
      "\n",
      "Resampled DataFrame:\n",
      "                     Value\n",
      "Timestamp                 \n",
      "2022-01-01 08:00:00   10.0\n",
      "2022-01-01 09:00:00   10.0\n",
      "2022-01-01 10:00:00   10.0\n",
      "2022-01-01 11:00:00   10.0\n",
      "2022-01-01 12:00:00   10.0\n",
      "2022-01-01 13:00:00   10.0\n",
      "2022-01-01 14:00:00   10.0\n",
      "2022-01-01 15:00:00   10.0\n",
      "2022-01-01 16:00:00   10.0\n",
      "2022-01-01 17:00:00   10.0\n",
      "2022-01-01 18:00:00   10.0\n",
      "2022-01-01 19:00:00   10.0\n",
      "2022-01-01 20:00:00   10.0\n",
      "2022-01-01 21:00:00   10.0\n",
      "2022-01-01 22:00:00   10.0\n",
      "2022-01-01 23:00:00   10.0\n",
      "2022-01-02 00:00:00   10.0\n",
      "2022-01-02 01:00:00   10.0\n",
      "2022-01-02 02:00:00   10.0\n",
      "2022-01-02 03:00:00   10.0\n",
      "2022-01-02 04:00:00   10.0\n",
      "2022-01-02 05:00:00   10.0\n",
      "2022-01-02 06:00:00   10.0\n",
      "2022-01-02 07:00:00   10.0\n",
      "2022-01-02 08:00:00   10.0\n",
      "2022-01-02 09:00:00   10.0\n"
     ]
    }
   ],
   "source": [
    "# 3. program and load a time series dataset with irregular time intervals (timestamps) into a pandasdataframe.\n",
    "import pandas as pd\n",
    "data = {'Timestamp': ['2022-01-01 08:00:00', '2022-01-01 10:30:00', '2022-01-02 09:15:00'],\n",
    "        'Value': [10, 15, 20]}\n",
    "df = pd.DataFrame(data)\n",
    "df['Timestamp'] = pd.to_datetime(df['Timestamp'])\n",
    "df.set_index('Timestamp', inplace=True)\n",
    "resampled_df = df.resample('H').interpolate(method='linear')\n",
    "print(df)\n",
    "print(\"\\nResampled DataFrame:\")\n",
    "print(resampled_df)\n"
   ]
  },
  {
   "cell_type": "code",
   "execution_count": 6,
   "id": "eae52c85",
   "metadata": {},
   "outputs": [
    {
     "name": "stdout",
     "output_type": "stream",
     "text": [
      "Original DataFrame:\n",
      "                     Value          Timezone\n",
      "Timestamp                                   \n",
      "2022-01-01 08:00:00     10  America/New_York\n",
      "2022-01-01 10:30:00     15     Europe/London\n",
      "2022-01-02 09:15:00     20        Asia/Tokyo\n",
      "\n",
      "DataFrame with Timestamps in UTC:\n",
      "                           Value          Timezone\n",
      "Timestamp                                         \n",
      "2022-01-01 08:00:00+00:00     10  America/New_York\n",
      "2022-01-01 10:30:00+00:00     15     Europe/London\n",
      "2022-01-02 09:15:00+00:00     20        Asia/Tokyo\n"
     ]
    }
   ],
   "source": [
    "# 4.program and load above time series dataset that includes time zone information. Convert thetimestamps to a common time zone\n",
    "import pandas as pd\n",
    "import pytz\n",
    "data = {'Timestamp': ['2022-01-01 08:00:00', '2022-01-01 10:30:00', '2022-01-02 09:15:00'],\n",
    "        'Value': [10, 15, 20],\n",
    "        'Timezone': ['America/New_York', 'Europe/London', 'Asia/Tokyo']}\n",
    "df = pd.DataFrame(data)\n",
    "df['Timestamp'] = pd.to_datetime(df['Timestamp'])\n",
    "df.set_index('Timestamp', inplace=True)\n",
    "print(\"Original DataFrame:\")\n",
    "print(df)\n",
    "common_time_zone = 'UTC'\n",
    "df.index = df.index.tz_localize('UTC')  \n",
    "df.index = df.index.tz_convert(common_time_zone)\n",
    "print(\"\\nDataFrame with Timestamps in UTC:\")\n",
    "print(df)\n"
   ]
  },
  {
   "cell_type": "code",
   "execution_count": 7,
   "id": "4116e8a8",
   "metadata": {},
   "outputs": [
    {
     "name": "stdout",
     "output_type": "stream",
     "text": [
      "DataFrame with Seasonal Components:\n",
      "            Sales  Year  Quarter  Month Day_of_Week\n",
      "Date                                               \n",
      "2022-01-15   1000  2022        1      1    Saturday\n",
      "2022-02-20   1200  2022        1      2      Sunday\n",
      "2022-03-10    800  2022        1      3    Thursday\n",
      "2022-04-05   1100  2022        2      4     Tuesday\n",
      "2022-05-18   1500  2022        2      5   Wednesday\n"
     ]
    }
   ],
   "source": [
    "# 5. a program and load a time series dataset that exhibits seasonality (e.g., monthly sales data). Createadditional columns to represent the year, quarter, month, day of the week, or any other seasonalcomponents to facilitate seasonal analysis\n",
    "import pandas as pd\n",
    "data = {'Date': ['2022-01-15', '2022-02-20', '2022-03-10', '2022-04-05', '2022-05-18'],\n",
    "        'Sales': [1000, 1200, 800, 1100, 1500]}\n",
    "df = pd.DataFrame(data)\n",
    "df['Date'] = pd.to_datetime(df['Date'])\n",
    "df.set_index('Date', inplace=True)\n",
    "df['Year'] = df.index.year\n",
    "df['Quarter'] = df.index.quarter\n",
    "df['Month'] = df.index.month\n",
    "df['Day_of_Week'] = df.index.day_name()\n",
    "print(\"DataFrame with Seasonal Components:\")\n",
    "print(df)\n"
   ]
  },
  {
   "cell_type": "code",
   "execution_count": null,
   "id": "1bc6727c",
   "metadata": {},
   "outputs": [],
   "source": [
    "# 8.2 Time series aggregation"
   ]
  },
  {
   "cell_type": "code",
   "execution_count": 8,
   "id": "8bea73d4",
   "metadata": {},
   "outputs": [
    {
     "name": "stdout",
     "output_type": "stream",
     "text": [
      "Monthly Mean:\n",
      "                Value\n",
      "Date                 \n",
      "2024-01-31  19.354839\n",
      "2024-02-29  20.000000\n",
      "2024-03-31  19.354839\n",
      "2024-04-30  19.666667\n",
      "2024-05-31  19.516129\n",
      "2024-06-30  19.666667\n",
      "2024-07-31  19.677419\n",
      "2024-08-31  19.612903\n",
      "2024-09-30  19.666667\n",
      "2024-10-31  19.838710\n",
      "2024-11-30  19.666667\n",
      "2024-12-31  20.000000\n",
      "\n",
      "Monthly Sum:\n",
      "            Value\n",
      "Date             \n",
      "2024-01-31    600\n",
      "2024-02-29    580\n",
      "2024-03-31    600\n",
      "2024-04-30    590\n",
      "2024-05-31    605\n",
      "2024-06-30    590\n",
      "2024-07-31    610\n",
      "2024-08-31    608\n",
      "2024-09-30    590\n",
      "2024-10-31    615\n",
      "2024-11-30    590\n",
      "2024-12-31    620\n",
      "\n",
      "Monthly Minimum:\n",
      "            Value\n",
      "Date             \n",
      "2024-01-31     10\n",
      "2024-02-29     10\n",
      "2024-03-31     10\n",
      "2024-04-30     10\n",
      "2024-05-31     10\n",
      "2024-06-30     10\n",
      "2024-07-31     10\n",
      "2024-08-31     10\n",
      "2024-09-30     10\n",
      "2024-10-31     10\n",
      "2024-11-30     10\n",
      "2024-12-31     10\n",
      "\n",
      "Monthly Maximum:\n",
      "            Value\n",
      "Date             \n",
      "2024-01-31     30\n",
      "2024-02-29     30\n",
      "2024-03-31     30\n",
      "2024-04-30     30\n",
      "2024-05-31     30\n",
      "2024-06-30     30\n",
      "2024-07-31     30\n",
      "2024-08-31     30\n",
      "2024-09-30     30\n",
      "2024-10-31     30\n",
      "2024-11-30     30\n",
      "2024-12-31     30\n"
     ]
    }
   ],
   "source": [
    "# 1. program and load a daily time series dataset and aggregate it to monthly intervals. Calculatesummary statistics such as the monthly mean, sum, minimum, and maximum values\n",
    "import pandas as pd\n",
    "data = {'Date': pd.date_range(start='2024-01-01', end='2024-12-31', freq='D'),\n",
    "        'Value': [10, 15, 20, 18, 25, 30] * 61}  # Six values repeated for each day in 2022\n",
    "df = pd.DataFrame(data)\n",
    "df.set_index('Date', inplace=True)\n",
    "monthly_mean = df.resample('M').mean()\n",
    "monthly_sum = df.resample('M').sum()\n",
    "monthly_min = df.resample('M').min()\n",
    "monthly_max = df.resample('M').max()\n",
    "print(\"Monthly Mean:\")\n",
    "print(monthly_mean)\n",
    "print(\"\\nMonthly Sum:\")\n",
    "print(monthly_sum)\n",
    "print(\"\\nMonthly Minimum:\")\n",
    "print(monthly_min)\n",
    "print(\"\\nMonthly Maximum:\")\n",
    "print(monthly_max)\n"
   ]
  },
  {
   "cell_type": "code",
   "execution_count": 9,
   "id": "18170fc1",
   "metadata": {},
   "outputs": [
    {
     "name": "stdout",
     "output_type": "stream",
     "text": [
      "            Sales\n",
      "Date             \n",
      "2022-01-31  14066\n",
      "2022-02-28   8600\n",
      "2022-03-31  10744\n",
      "2022-04-30  16427\n",
      "2022-05-31  13872\n",
      "2022-06-30  11765\n",
      "2022-07-31  15224\n",
      "2022-08-31  10760\n",
      "2022-09-30  12091\n",
      "2022-10-31   9808\n",
      "2022-11-30  12759\n",
      "2022-12-31  14620\n"
     ]
    }
   ],
   "source": [
    "# 2. program and load a weekly time series dataset and aggregate it to monthly intervals. Calculatemonthly summaries, such as the total sales for each month.\n",
    "import pandas as pd\n",
    "import numpy as np\n",
    "date_rng = pd.date_range(start='2022-01-01', end='2022-12-31', freq='W')\n",
    "sales_values = np.random.randint(1000, 5000, len(date_rng))\n",
    "df = pd.DataFrame({'Date': date_rng, 'Sales': sales_values})\n",
    "df.set_index('Date', inplace=True)\n",
    "monthly_summary = df.resample('M').agg({\n",
    "    'Sales': 'sum'\n",
    "})\n",
    "print(monthly_summary)"
   ]
  },
  {
   "cell_type": "code",
   "execution_count": 10,
   "id": "c3c415dd",
   "metadata": {},
   "outputs": [
    {
     "name": "stdout",
     "output_type": "stream",
     "text": [
      "Monthly Aggregated DataFrame:\n",
      "            Temperature\n",
      "Date                   \n",
      "2022-01-31    39.870968\n",
      "2022-02-28    41.857143\n",
      "2022-03-31    40.193548\n",
      "2022-04-30    42.200000\n",
      "2022-05-31    39.870968\n",
      "2022-06-30    41.800000\n",
      "2022-07-31    40.322581\n",
      "2022-08-31    41.161290\n",
      "2022-09-30    41.000000\n",
      "2022-10-31    40.838710\n",
      "2022-11-30    41.400000\n",
      "2022-12-31    41.769231\n"
     ]
    }
   ],
   "source": [
    "#3. a program and load a time series dataset as following with seasonal patterns (e.g., daily temperaturereadings). Aggregate the data to a higher level of granularity (e.g., monthly) while preserving importantseasonal information.\n",
    "\n",
    "import pandas as pd\n",
    "date_range = pd.date_range(start='2022-01-01', end='2022-12-26', freq='D')\n",
    "temperature_values = [30, 32, 34, 36, 38, 40, 42, 44, 46, 48, 50, 52] * (len(date_range) // 12)\n",
    "data = {'Date': date_range, 'Temperature': temperature_values[:len(date_range)]}\n",
    "df = pd.DataFrame(data)\n",
    "df.set_index('Date', inplace=True)\n",
    "monthly_aggregated = df.resample('M').mean()\n",
    "print(\"Monthly Aggregated DataFrame:\")\n",
    "print(monthly_aggregated)\n",
    "\n"
   ]
  },
  {
   "cell_type": "code",
   "execution_count": 11,
   "id": "b5dd5349",
   "metadata": {},
   "outputs": [
    {
     "name": "stdout",
     "output_type": "stream",
     "text": [
      "Monthly Aggregated DataFrame:\n",
      "            Sales\n",
      "Date             \n",
      "2022-01-31   5600\n",
      "2022-02-28   4300\n",
      "2022-03-31   5200\n",
      "2022-04-30   4600\n",
      "2022-05-31   5500\n",
      "2022-06-30   5200\n",
      "2022-07-31   5600\n",
      "2022-08-31   4700\n",
      "2022-09-30   4600\n",
      "2022-10-31   5800\n",
      "2022-11-30   5300\n"
     ]
    }
   ],
   "source": [
    "# 4. program and load a weekly time series dataset and aggregate it to monthly intervals. Calculate monthly summaries, such as the total sales for each month.\n",
    "import pandas as pd\n",
    "date_range = pd.date_range(start='2022-01-01', end='2022-12-01', freq='W')\n",
    "sales_values = [1000, 1200, 800, 1100, 1500, 1300, 900, 1000, 1100, 1200, 1400, 1600] * (len(date_range) // 12)\n",
    "data = {'Date': date_range, 'Sales': sales_values[:len(date_range)]}\n",
    "df = pd.DataFrame(data)\n",
    "df.set_index('Date', inplace=True)\n",
    "monthly_aggregated = df.resample('M').sum()\n",
    "print(\"Monthly Aggregated DataFrame:\")\n",
    "print(monthly_aggregated)\n",
    "                               "
   ]
  }
 ],
 "metadata": {
  "kernelspec": {
   "display_name": "Python 3 (ipykernel)",
   "language": "python",
   "name": "python3"
  },
  "language_info": {
   "codemirror_mode": {
    "name": "ipython",
    "version": 3
   },
   "file_extension": ".py",
   "mimetype": "text/x-python",
   "name": "python",
   "nbconvert_exporter": "python",
   "pygments_lexer": "ipython3",
   "version": "3.11.4"
  }
 },
 "nbformat": 4,
 "nbformat_minor": 5
}
