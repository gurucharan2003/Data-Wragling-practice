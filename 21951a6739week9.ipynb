{
 "cells": [
  {
   "cell_type": "code",
   "execution_count": null,
   "metadata": {},
   "outputs": [],
   "source": [
    "# 9 WEEK\n",
    "# 9.1 Exercises on joining data tables"
   ]
  },
  {
   "cell_type": "code",
   "execution_count": null,
   "metadata": {},
   "outputs": [],
   "source": []
  },
  {
   "cell_type": "code",
   "execution_count": 2,
   "metadata": {},
   "outputs": [
    {
     "name": "stdout",
     "output_type": "stream",
     "text": [
      "^C\n",
      "Note: you may need to restart the kernel to use updated packages.\n"
     ]
    }
   ],
   "source": [
    "pip install matplotlib"
   ]
  },
  {
   "cell_type": "code",
   "execution_count": 3,
   "metadata": {},
   "outputs": [
    {
     "name": "stdout",
     "output_type": "stream",
     "text": [
      "             Course_x         Country  Fee_USD                Course_y  \\\n",
      "0               Maths           India    15500                   Maths   \n",
      "1               Maths           India    15500               Marketing   \n",
      "2            Politics           India    21600                   Maths   \n",
      "3            Politics           India    21600               Marketing   \n",
      "4             Physics         Germany    16700                 Physics   \n",
      "5             Physics         Germany    16700         German language   \n",
      "6       Applied Maths         Germany    11100                 Physics   \n",
      "7       Applied Maths         Germany    11100         German language   \n",
      "8     General Science  United Kingdom    18000  Information Technology   \n",
      "9      Social Science         Austria    18400          Social Science   \n",
      "10            History          Poland    23000                 History   \n",
      "11  Computer Graphics   United States    27000       Computer Graphics   \n",
      "\n",
      "    Discount_USD  \n",
      "0           1000  \n",
      "1           2000  \n",
      "2           1000  \n",
      "3           2000  \n",
      "4           2300  \n",
      "5           1500  \n",
      "6           2300  \n",
      "7           1500  \n",
      "8           1200  \n",
      "9           1500  \n",
      "10          3200  \n",
      "11          2500  \n"
     ]
    }
   ],
   "source": [
    "# 1. program to join two data tables along columns from the dataset using ‘merge( ) function.\n",
    "import pandas as pd\n",
    "url = 'https://github.com/17rsuraj/data-curious/raw/master/TowardsDataScience/Dummy_course_data.xlsx'\n",
    "df1 = pd.read_excel(url, sheet_name='Fees') \n",
    "df2 = pd.read_excel(url, sheet_name='Discounts') \n",
    "result = pd.merge(df1, df2, on='Country', how='inner') \n",
    "print(result)"
   ]
  },
  {
   "cell_type": "code",
   "execution_count": 4,
   "metadata": {},
   "outputs": [
    {
     "name": "stdout",
     "output_type": "stream",
     "text": [
      "          Course_df1     Country_df1  Fee_USD              Course_df2  \\\n",
      "0              Maths           India    15500                   Maths   \n",
      "1            Physics         Germany    16700                 Physics   \n",
      "2      Applied Maths         Germany    11100         German language   \n",
      "3    General Science  United Kingdom    18000  Information Technology   \n",
      "4     Social Science         Austria    18400          Social Science   \n",
      "5            History          Poland    23000                 History   \n",
      "6           Politics           India    21600               Marketing   \n",
      "7  Computer Graphics   United States    27000       Computer Graphics   \n",
      "\n",
      "      Country_df2  Discount_USD  \n",
      "0           India          1000  \n",
      "1         Germany          2300  \n",
      "2         Germany          1500  \n",
      "3  United Kingdom          1200  \n",
      "4         Austria          1500  \n",
      "5          Poland          3200  \n",
      "6           India          2000  \n",
      "7   United States          2500  \n"
     ]
    }
   ],
   "source": [
    "# 2. a program to join two data tables along rows from the dataset using ‘join( ) function.\n",
    "import pandas as pd\n",
    "url = 'https://github.com/17rsuraj/data-curious/raw/master/TowardsDataScience/Dummy_course_data.xlsx'\n",
    "df1 = pd.read_excel(url, sheet_name='Fees') \n",
    "df2 = pd.read_excel(url, sheet_name='Discounts')  \n",
    "result = df1.join(df2, lsuffix='_df1', rsuffix='_df2')\n",
    "print(result)"
   ]
  },
  {
   "cell_type": "code",
   "execution_count": 5,
   "metadata": {},
   "outputs": [
    {
     "name": "stdout",
     "output_type": "stream",
     "text": [
      "               Survived\n",
      "Pclass Sex             \n",
      "1      female  0.968085\n",
      "       male    0.368852\n",
      "2      female  0.921053\n",
      "       male    0.157407\n",
      "3      female  0.500000\n",
      "       male    0.135447\n"
     ]
    }
   ],
   "source": [
    "# 1. Write a program to create a Pivot table with multiple indexes from the data set of\n",
    "import pandas as pd\n",
    "url = 'https://github.com/ven-27/datasets/raw/master/titanic.csv'\n",
    "titanic_data = pd.read_csv(url)\n",
    "pivot_table = pd.pivot_table(titanic_data, \n",
    "                              index=['Pclass', 'Sex'], \n",
    "                              values=['Survived'], \n",
    "                              aggfunc={'Survived': 'mean'})\n",
    "print(pivot_table)\n"
   ]
  },
  {
   "cell_type": "code",
   "execution_count": 6,
   "metadata": {},
   "outputs": [
    {
     "name": "stdout",
     "output_type": "stream",
     "text": [
      "        Survived\n",
      "Sex             \n",
      "female  0.742038\n",
      "male    0.188908\n"
     ]
    }
   ],
   "source": [
    "# 2. a program to create a Pivot table on the given dataset and find survival rate by gender.\n",
    "import pandas as pd\n",
    "url = 'https://github.com/ven-27/datasets/raw/master/titanic.csv'\n",
    "titanic_data = pd.read_csv(url)\n",
    "pivot_table = pd.pivot_table(titanic_data, \n",
    "                              index='Sex', \n",
    "                              values='Survived', \n",
    "                              aggfunc='mean')\n",
    "print(pivot_table)\n"
   ]
  },
  {
   "cell_type": "code",
   "execution_count": 7,
   "metadata": {},
   "outputs": [
    {
     "name": "stdout",
     "output_type": "stream",
     "text": [
      "Pclass                   1         2         3\n",
      "Sex    Age                                    \n",
      "female (0, 18]    0.909091  1.000000  0.511628\n",
      "       (18, 35]   0.972222  0.925000  0.500000\n",
      "       (35, 60]   0.972222  0.850000  0.142857\n",
      "       (60, 100]  1.000000       NaN  1.000000\n",
      "male   (0, 18]    0.800000  0.600000  0.215686\n",
      "       (18, 35]   0.500000  0.074074  0.155844\n",
      "       (35, 60]   0.370370  0.037037  0.068182\n",
      "       (60, 100]  0.083333  0.333333  0.000000\n"
     ]
    }
   ],
   "source": [
    "# 3. program to create a Pivot table on the given dataset and find survival rate by gender, age wiseof various classes.\n",
    "import pandas as pd\n",
    "url = 'https://github.com/ven-27/datasets/raw/master/titanic.csv'\n",
    "titanic_data = pd.read_csv(url)\n",
    "pivot_table = pd.pivot_table(titanic_data, \n",
    "                              index=['Sex', pd.cut(titanic_data['Age'], [0, 18, 35, 60, 100])], \n",
    "                              columns='Pclass', \n",
    "                              values='Survived', \n",
    "                              aggfunc='mean')\n",
    "print(pivot_table)"
   ]
  },
  {
   "cell_type": "code",
   "execution_count": 8,
   "metadata": {},
   "outputs": [
    {
     "name": "stdout",
     "output_type": "stream",
     "text": [
      "Sex     female  male  Total\n",
      "Pclass                     \n",
      "1           94   122    216\n",
      "2           76   108    184\n",
      "3          144   347    491\n",
      "Total      314   577    891\n"
     ]
    }
   ],
   "source": [
    "# 4. program to create a Pivot table on the given dataset and calculate number of women and men were in a particular cabin class.\n",
    "import pandas as pd\n",
    "url = 'https://github.com/ven-27/datasets/raw/master/titanic.csv'\n",
    "titanic_data = pd.read_csv(url)\n",
    "pivot_table = pd.pivot_table(titanic_data, \n",
    "                              index='Pclass', \n",
    "                              columns='Sex', \n",
    "                              values='PassengerId', \n",
    "                              aggfunc='count', \n",
    "                              margins=True,\n",
    "                              margins_name='Total')\n",
    "print(pivot_table)"
   ]
  },
  {
   "cell_type": "code",
   "execution_count": 9,
   "metadata": {},
   "outputs": [
    {
     "name": "stdout",
     "output_type": "stream",
     "text": [
      "Survived     0    1  Total\n",
      "Age                       \n",
      "(0, 18]     69   70    139\n",
      "(18, 35]   221  137    358\n",
      "(35, 60]   117   78    195\n",
      "(60, 100]   17    5     22\n",
      "Total      424  290    714\n"
     ]
    }
   ],
   "source": [
    "# 1. program to make a contingency table between the ‘Age’ and ‘Survived’ columns on the above dataset.\n",
    "import pandas as pd\n",
    "url = 'https://github.com/ven-27/datasets/raw/master/titanic.csv'\n",
    "titanic_data = pd.read_csv(url)\n",
    "contingency_table = pd.crosstab(index=pd.cut(titanic_data['Age'], [0, 18, 35, 60, 100]),\n",
    "                                columns=titanic_data['Survived'],\n",
    "                                margins=True,\n",
    "                                margins_name='Total')\n",
    "\n",
    "# Display the result\n",
    "print(contingency_table)\n",
    " "
   ]
  },
  {
   "cell_type": "code",
   "execution_count": 10,
   "metadata": {},
   "outputs": [
    {
     "name": "stdout",
     "output_type": "stream",
     "text": [
      "Sex     female  male  Total\n",
      "Pclass                     \n",
      "1           94   122    216\n",
      "2           76   108    184\n",
      "3          144   347    491\n",
      "Total      314   577    891\n"
     ]
    }
   ],
   "source": [
    "# 2.a program to make a contingency table between the ‘Pclass’ and ‘Sex’ columns\n",
    "import pandas as pd\n",
    "url = 'https://github.com/ven-27/datasets/raw/master/titanic.csv'\n",
    "titanic_data = pd.read_csv(url)\n",
    "contingency_table = pd.crosstab(index=titanic_data['Pclass'],\n",
    "                                columns=titanic_data['Sex'],\n",
    "                                margins=True,\n",
    "                                margins_name='Total')\n",
    "print(contingency_table)\n"
   ]
  },
  {
   "cell_type": "code",
   "execution_count": 11,
   "metadata": {},
   "outputs": [
    {
     "name": "stdout",
     "output_type": "stream",
     "text": [
      "Survived              0    1  Total\n",
      "PassengerId Sex                    \n",
      "1           male      1    0      1\n",
      "2           female    0    1      1\n",
      "3           female    0    1      1\n",
      "4           female    0    1      1\n",
      "5           male      1    0      1\n",
      "...                 ...  ...    ...\n",
      "888         female    0    1      1\n",
      "889         female    1    0      1\n",
      "890         male      0    1      1\n",
      "891         male      1    0      1\n",
      "Total               549  342    891\n",
      "\n",
      "[892 rows x 3 columns]\n"
     ]
    }
   ],
   "source": [
    "# 3. a program to make a contingency table between the ‘PassengerId’ + ‘Sex’ and ‘Survived’ columns\n",
    "import pandas as pd\n",
    "url = 'https://github.com/ven-27/datasets/raw/master/titanic.csv'\n",
    "titanic_data = pd.read_csv(url)\n",
    "contingency_table = pd.crosstab(index=[titanic_data['PassengerId'], titanic_data['Sex']],\n",
    "                                columns=titanic_data['Survived'],\n",
    "                                margins=True,\n",
    "                                margins_name='Total')\n",
    "print(contingency_table)\n"
   ]
  },
  {
   "cell_type": "code",
   "execution_count": 12,
   "metadata": {},
   "outputs": [
    {
     "name": "stdout",
     "output_type": "stream",
     "text": [
      "<class 'pandas.core.groupby.generic.DataFrameGroupBy'>\n",
      "\n",
      "Group: 1\n",
      "    PassengerId  Survived  Pclass  \\\n",
      "1             2         1       1   \n",
      "3             4         1       1   \n",
      "6             7         0       1   \n",
      "11           12         1       1   \n",
      "23           24         1       1   \n",
      "\n",
      "                                                 Name     Sex   Age  SibSp  \\\n",
      "1   Cumings, Mrs. John Bradley (Florence Briggs Th...  female  38.0      1   \n",
      "3        Futrelle, Mrs. Jacques Heath (Lily May Peel)  female  35.0      1   \n",
      "6                             McCarthy, Mr. Timothy J    male  54.0      0   \n",
      "11                           Bonnell, Miss. Elizabeth  female  58.0      0   \n",
      "23                       Sloper, Mr. William Thompson    male  28.0      0   \n",
      "\n",
      "    Parch    Ticket     Fare Cabin Embarked  \n",
      "1       0  PC 17599  71.2833   C85        C  \n",
      "3       0    113803  53.1000  C123        S  \n",
      "6       0     17463  51.8625   E46        S  \n",
      "11      0    113783  26.5500  C103        S  \n",
      "23      0    113788  35.5000    A6        S  \n",
      "\n",
      "Group: 2\n",
      "    PassengerId  Survived  Pclass                                 Name  \\\n",
      "9            10         1       2  Nasser, Mrs. Nicholas (Adele Achem)   \n",
      "15           16         1       2     Hewlett, Mrs. (Mary D Kingcome)    \n",
      "17           18         1       2         Williams, Mr. Charles Eugene   \n",
      "20           21         0       2                 Fynney, Mr. Joseph J   \n",
      "21           22         1       2                Beesley, Mr. Lawrence   \n",
      "\n",
      "       Sex   Age  SibSp  Parch  Ticket     Fare Cabin Embarked  \n",
      "9   female  14.0      1      0  237736  30.0708   NaN        C  \n",
      "15  female  55.0      0      0  248706  16.0000   NaN        S  \n",
      "17    male   NaN      0      0  244373  13.0000   NaN        S  \n",
      "20    male  35.0      0      0  239865  26.0000   NaN        S  \n",
      "21    male  34.0      0      0  248698  13.0000   D56        S  \n",
      "\n",
      "Group: 3\n",
      "   PassengerId  Survived  Pclass                            Name     Sex  \\\n",
      "0            1         0       3         Braund, Mr. Owen Harris    male   \n",
      "2            3         1       3          Heikkinen, Miss. Laina  female   \n",
      "4            5         0       3        Allen, Mr. William Henry    male   \n",
      "5            6         0       3                Moran, Mr. James    male   \n",
      "7            8         0       3  Palsson, Master. Gosta Leonard    male   \n",
      "\n",
      "    Age  SibSp  Parch            Ticket     Fare Cabin Embarked  \n",
      "0  22.0      1      0         A/5 21171   7.2500   NaN        S  \n",
      "2  26.0      0      0  STON/O2. 3101282   7.9250   NaN        S  \n",
      "4  35.0      0      0            373450   8.0500   NaN        S  \n",
      "5   NaN      0      0            330877   8.4583   NaN        Q  \n",
      "7   2.0      3      1            349909  21.0750   NaN        S  \n"
     ]
    }
   ],
   "source": [
    "# 1. program to split the above dataset into groups based on passenger class and also check the type of GroupBy ( ) object.\n",
    "import pandas as pd\n",
    "url = 'https://github.com/ven-27/datasets/raw/master/titanic.csv'\n",
    "titanic_data = pd.read_csv(url)\n",
    "grouped_data = titanic_data.groupby('Pclass')\n",
    "print(type(grouped_data))\n",
    "for name, group in grouped_data:\n",
    "    print(f'\\nGroup: {name}')\n",
    "    print(group.head())\n"
   ]
  },
  {
   "cell_type": "code",
   "execution_count": 13,
   "metadata": {},
   "outputs": [
    {
     "name": "stdout",
     "output_type": "stream",
     "text": [
      "<class 'pandas.core.groupby.generic.DataFrameGroupBy'>\n",
      "\n",
      "Group: (0, 1)\n",
      "    PassengerId  Survived  Pclass                            Name   Sex   Age  \\\n",
      "6             7         0       1         McCarthy, Mr. Timothy J  male  54.0   \n",
      "27           28         0       1  Fortune, Mr. Charles Alexander  male  19.0   \n",
      "30           31         0       1        Uruchurtu, Don. Manuel E  male  40.0   \n",
      "34           35         0       1         Meyer, Mr. Edgar Joseph  male  28.0   \n",
      "35           36         0       1  Holverson, Mr. Alexander Oskar  male  42.0   \n",
      "\n",
      "    SibSp  Parch    Ticket      Fare        Cabin Embarked  \n",
      "6       0      0     17463   51.8625          E46        S  \n",
      "27      3      2     19950  263.0000  C23 C25 C27        S  \n",
      "30      0      0  PC 17601   27.7208          NaN        C  \n",
      "34      1      0  PC 17604   82.1708          NaN        C  \n",
      "35      1      0    113789   52.0000          NaN        S  \n",
      "\n",
      "Group: (0, 2)\n",
      "    PassengerId  Survived  Pclass  \\\n",
      "20           21         0       2   \n",
      "33           34         0       2   \n",
      "41           42         0       2   \n",
      "70           71         0       2   \n",
      "72           73         0       2   \n",
      "\n",
      "                                                 Name     Sex   Age  SibSp  \\\n",
      "20                               Fynney, Mr. Joseph J    male  35.0      0   \n",
      "33                              Wheadon, Mr. Edward H    male  66.0      0   \n",
      "41  Turpin, Mrs. William John Robert (Dorothy Ann ...  female  27.0      1   \n",
      "70                         Jenkin, Mr. Stephen Curnow    male  32.0      0   \n",
      "72                               Hood, Mr. Ambrose Jr    male  21.0      0   \n",
      "\n",
      "    Parch        Ticket  Fare Cabin Embarked  \n",
      "20      0        239865  26.0   NaN        S  \n",
      "33      0    C.A. 24579  10.5   NaN        S  \n",
      "41      0         11668  21.0   NaN        S  \n",
      "70      0    C.A. 33111  10.5   NaN        S  \n",
      "72      0  S.O.C. 14879  73.5   NaN        S  \n",
      "\n",
      "Group: (0, 3)\n",
      "    PassengerId  Survived  Pclass                            Name   Sex   Age  \\\n",
      "0             1         0       3         Braund, Mr. Owen Harris  male  22.0   \n",
      "4             5         0       3        Allen, Mr. William Henry  male  35.0   \n",
      "5             6         0       3                Moran, Mr. James  male   NaN   \n",
      "7             8         0       3  Palsson, Master. Gosta Leonard  male   2.0   \n",
      "12           13         0       3  Saundercock, Mr. William Henry  male  20.0   \n",
      "\n",
      "    SibSp  Parch     Ticket     Fare Cabin Embarked  \n",
      "0       1      0  A/5 21171   7.2500   NaN        S  \n",
      "4       0      0     373450   8.0500   NaN        S  \n",
      "5       0      0     330877   8.4583   NaN        Q  \n",
      "7       3      1     349909  21.0750   NaN        S  \n",
      "12      0      0  A/5. 2151   8.0500   NaN        S  \n",
      "\n",
      "Group: (1, 1)\n",
      "    PassengerId  Survived  Pclass  \\\n",
      "1             2         1       1   \n",
      "3             4         1       1   \n",
      "11           12         1       1   \n",
      "23           24         1       1   \n",
      "31           32         1       1   \n",
      "\n",
      "                                                 Name     Sex   Age  SibSp  \\\n",
      "1   Cumings, Mrs. John Bradley (Florence Briggs Th...  female  38.0      1   \n",
      "3        Futrelle, Mrs. Jacques Heath (Lily May Peel)  female  35.0      1   \n",
      "11                           Bonnell, Miss. Elizabeth  female  58.0      0   \n",
      "23                       Sloper, Mr. William Thompson    male  28.0      0   \n",
      "31     Spencer, Mrs. William Augustus (Marie Eugenie)  female   NaN      1   \n",
      "\n",
      "    Parch    Ticket      Fare Cabin Embarked  \n",
      "1       0  PC 17599   71.2833   C85        C  \n",
      "3       0    113803   53.1000  C123        S  \n",
      "11      0    113783   26.5500  C103        S  \n",
      "23      0    113788   35.5000    A6        S  \n",
      "31      0  PC 17569  146.5208   B78        C  \n",
      "\n",
      "Group: (1, 2)\n",
      "    PassengerId  Survived  Pclass                                      Name  \\\n",
      "9            10         1       2       Nasser, Mrs. Nicholas (Adele Achem)   \n",
      "15           16         1       2          Hewlett, Mrs. (Mary D Kingcome)    \n",
      "17           18         1       2              Williams, Mr. Charles Eugene   \n",
      "21           22         1       2                     Beesley, Mr. Lawrence   \n",
      "43           44         1       2  Laroche, Miss. Simonne Marie Anne Andree   \n",
      "\n",
      "       Sex   Age  SibSp  Parch         Ticket     Fare Cabin Embarked  \n",
      "9   female  14.0      1      0         237736  30.0708   NaN        C  \n",
      "15  female  55.0      0      0         248706  16.0000   NaN        S  \n",
      "17    male   NaN      0      0         244373  13.0000   NaN        S  \n",
      "21    male  34.0      0      0         248698  13.0000   D56        S  \n",
      "43  female   3.0      1      2  SC/Paris 2123  41.5792   NaN        C  \n",
      "\n",
      "Group: (1, 3)\n",
      "    PassengerId  Survived  Pclass  \\\n",
      "2             3         1       3   \n",
      "8             9         1       3   \n",
      "10           11         1       3   \n",
      "19           20         1       3   \n",
      "22           23         1       3   \n",
      "\n",
      "                                                 Name     Sex   Age  SibSp  \\\n",
      "2                              Heikkinen, Miss. Laina  female  26.0      0   \n",
      "8   Johnson, Mrs. Oscar W (Elisabeth Vilhelmina Berg)  female  27.0      0   \n",
      "10                    Sandstrom, Miss. Marguerite Rut  female   4.0      1   \n",
      "19                            Masselmani, Mrs. Fatima  female   NaN      0   \n",
      "22                        McGowan, Miss. Anna \"Annie\"  female  15.0      0   \n",
      "\n",
      "    Parch            Ticket     Fare Cabin Embarked  \n",
      "2       0  STON/O2. 3101282   7.9250   NaN        S  \n",
      "8       2            347742  11.1333   NaN        S  \n",
      "10      1           PP 9549  16.7000    G6        S  \n",
      "19      0              2649   7.2250   NaN        C  \n",
      "22      0            330923   8.0292   NaN        Q  \n"
     ]
    }
   ],
   "source": [
    "# 2.  program to split the above dataframe into groups based on survived and passenger class.\n",
    "import pandas as pd\n",
    "url = 'https://github.com/ven-27/datasets/raw/master/titanic.csv'\n",
    "titanic_data = pd.read_csv(url)\n",
    "grouped_data = titanic_data.groupby(['Survived', 'Pclass'])\n",
    "print(type(grouped_data))\n",
    "for name, group in grouped_data:\n",
    "    print(f'\\nGroup: {name}')\n",
    "    print(group.head())"
   ]
  },
  {
   "cell_type": "code",
   "execution_count": 14,
   "metadata": {},
   "outputs": [
    {
     "name": "stdout",
     "output_type": "stream",
     "text": [
      "\n",
      "Group sizes based on multiple columns:\n",
      "Survived  Pclass\n",
      "0         1          80\n",
      "          2          97\n",
      "          3         372\n",
      "1         1         136\n",
      "          2          87\n",
      "          3         119\n",
      "dtype: int64\n"
     ]
    }
   ],
   "source": [
    "#  3. program to split the above dataframe into groups based on single column and multiple columns. Find the size of the grouped data.\n",
    "multiple_columns_grouped = titanic_data.groupby(['Survived', 'Pclass'])\n",
    "multiple_columns_group_sizes = multiple_columns_grouped.size()\n",
    "print(\"\\nGroup sizes based on multiple columns:\")\n",
    "print(multiple_columns_group_sizes)\n"
   ]
  },
  {
   "cell_type": "code",
   "execution_count": null,
   "metadata": {},
   "outputs": [],
   "source": []
  }
 ],
 "metadata": {
  "kernelspec": {
   "display_name": "Python 3",
   "language": "python",
   "name": "python3"
  },
  "language_info": {
   "codemirror_mode": {
    "name": "ipython",
    "version": 3
   },
   "file_extension": ".py",
   "mimetype": "text/x-python",
   "name": "python",
   "nbconvert_exporter": "python",
   "pygments_lexer": "ipython3",
   "version": "3.11.4"
  }
 },
 "nbformat": 4,
 "nbformat_minor": 2
}
